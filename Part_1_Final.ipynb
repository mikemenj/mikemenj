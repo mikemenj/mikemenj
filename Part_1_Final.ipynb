{
  "nbformat": 4,
  "nbformat_minor": 0,
  "metadata": {
    "colab": {
      "provenance": [],
      "authorship_tag": "ABX9TyOXY6wiWOwlI37Tg59KpC4u",
      "include_colab_link": true
    },
    "kernelspec": {
      "name": "python3",
      "display_name": "Python 3"
    },
    "language_info": {
      "name": "python"
    }
  },
  "cells": [
    {
      "cell_type": "markdown",
      "metadata": {
        "id": "view-in-github",
        "colab_type": "text"
      },
      "source": [
        "<a href=\"https://colab.research.google.com/github/mikemenj/mikemenj/blob/main/Part_1_Final.ipynb\" target=\"_parent\"><img src=\"https://colab.research.google.com/assets/colab-badge.svg\" alt=\"Open In Colab\"/></a>"
      ]
    },
    {
      "cell_type": "markdown",
      "source": [
        "1. Your first task is to build a linear regression model to predict sales.\n",
        "\n",
        "- Build a linear regression model.\n",
        "- Evaluate the performance of your model based on r^2.\n",
        "- Evaluate the performance of your model based on rmse.\n",
        "2. Your second task is to build a regression tree model to predict sales.\n",
        "\n",
        "- Build a simple regression tree model.\n",
        "- Compare the performance of your model based on r^2.\n",
        "- Compare the performance of your model based on rmse.\n",
        "3. You now have tried 2 different models on your data set. You need to determine which model to implement.\n",
        "\n",
        "- Overall, which model do you recommend?\n",
        "- Justify your recommendation.\n",
        "4. To finalize this project, complete a README in your GitHub repository including:\n",
        "\n",
        "- An overview of the project\n",
        "- 2 relevant insights from the data (supported with reporting quality visualizations)\n",
        "- Summary of the model and its evaluation metrics\n",
        "- Final recommendations "
      ],
      "metadata": {
        "id": "bwagbVorsiAf"
      }
    },
    {
      "cell_type": "markdown",
      "source": [
        "#Imports"
      ],
      "metadata": {
        "id": "zNpcG4mIoH-w"
      }
    },
    {
      "cell_type": "code",
      "execution_count": 38,
      "metadata": {
        "id": "4wdnXaOuIbiS"
      },
      "outputs": [],
      "source": [
        "## Pandas\n",
        "import pandas as pd\n",
        "\n",
        "## Numpy\n",
        "import numpy as np\n",
        "\n",
        "## MatPlotLib\n",
        "import matplotlib.pyplot as plt\n",
        "\n",
        "#seaborn\n",
        "import seaborn as sns\n",
        "\n",
        "## Preprocessing\n",
        "from sklearn.model_selection import train_test_split\n",
        "from sklearn.preprocessing import StandardScaler, OneHotEncoder\n",
        "from sklearn.impute import SimpleImputer\n",
        "from sklearn.pipeline import make_pipeline\n",
        "from sklearn.compose import make_column_transformer, make_column_selector\n",
        "\n",
        "## Models\n",
        "from sklearn.dummy import DummyRegressor\n",
        "from sklearn.linear_model import LinearRegression\n",
        "\n",
        "## Regression Metrics\n",
        "from sklearn.metrics import r2_score\n",
        "from sklearn.metrics import mean_absolute_error\n",
        "from sklearn.metrics import mean_squared_error\n",
        "\n",
        "## Set global scikit-learn configuration \n",
        "from sklearn import set_config\n",
        "\n",
        "## Display estimators as a diagram\n",
        "set_config(display='diagram') # 'text' or 'diagram'}"
      ]
    },
    {
      "cell_type": "markdown",
      "source": [
        "#Read the Data"
      ],
      "metadata": {
        "id": "Dyz9egNeoOuu"
      }
    },
    {
      "cell_type": "code",
      "source": [
        "path = 'https://docs.google.com/spreadsheets/d/e/2PACX-1vSluepdRgArMMr7UNy-EQUgZqemlRAe_19THlveO6kkh4nUtJ-ukHy2qvE5aYhj3L6YkOPMJc8Go_oz/pub?gid=1284655454&single=true&output=csv'\n",
        "df = pd.read_csv(path)\n",
        "df.head()"
      ],
      "metadata": {
        "colab": {
          "base_uri": "https://localhost:8080/",
          "height": 206
        },
        "id": "0vn5RfxyJrMT",
        "outputId": "b772d02b-2926-478d-f55a-62a27db19515"
      },
      "execution_count": 39,
      "outputs": [
        {
          "output_type": "execute_result",
          "data": {
            "text/plain": [
              "  Item_Identifier  Item_Weight Item_Fat_Content  Item_Visibility  \\\n",
              "0           FDA15         9.30          Low Fat         0.016047   \n",
              "1           DRC01         5.92          Regular         0.019278   \n",
              "2           FDN15        17.50          Low Fat         0.016760   \n",
              "3           FDX07        19.20          Regular         0.000000   \n",
              "4           NCD19         8.93          Low Fat         0.000000   \n",
              "\n",
              "               Item_Type  Item_MRP Outlet_Identifier  \\\n",
              "0                  Dairy  249.8092            OUT049   \n",
              "1            Soft Drinks   48.2692            OUT018   \n",
              "2                   Meat  141.6180            OUT049   \n",
              "3  Fruits and Vegetables  182.0950            OUT010   \n",
              "4              Household   53.8614            OUT013   \n",
              "\n",
              "   Outlet_Establishment_Year Outlet_Size Outlet_Location_Type  \\\n",
              "0                       1999      Medium               Tier 1   \n",
              "1                       2009      Medium               Tier 3   \n",
              "2                       1999      Medium               Tier 1   \n",
              "3                       1998         NaN               Tier 3   \n",
              "4                       1987        High               Tier 3   \n",
              "\n",
              "         Outlet_Type  Item_Outlet_Sales  \n",
              "0  Supermarket Type1          3735.1380  \n",
              "1  Supermarket Type2           443.4228  \n",
              "2  Supermarket Type1          2097.2700  \n",
              "3      Grocery Store           732.3800  \n",
              "4  Supermarket Type1           994.7052  "
            ],
            "text/html": [
              "\n",
              "  <div id=\"df-a55f0412-01b0-4f51-b066-84ac2fe622c6\">\n",
              "    <div class=\"colab-df-container\">\n",
              "      <div>\n",
              "<style scoped>\n",
              "    .dataframe tbody tr th:only-of-type {\n",
              "        vertical-align: middle;\n",
              "    }\n",
              "\n",
              "    .dataframe tbody tr th {\n",
              "        vertical-align: top;\n",
              "    }\n",
              "\n",
              "    .dataframe thead th {\n",
              "        text-align: right;\n",
              "    }\n",
              "</style>\n",
              "<table border=\"1\" class=\"dataframe\">\n",
              "  <thead>\n",
              "    <tr style=\"text-align: right;\">\n",
              "      <th></th>\n",
              "      <th>Item_Identifier</th>\n",
              "      <th>Item_Weight</th>\n",
              "      <th>Item_Fat_Content</th>\n",
              "      <th>Item_Visibility</th>\n",
              "      <th>Item_Type</th>\n",
              "      <th>Item_MRP</th>\n",
              "      <th>Outlet_Identifier</th>\n",
              "      <th>Outlet_Establishment_Year</th>\n",
              "      <th>Outlet_Size</th>\n",
              "      <th>Outlet_Location_Type</th>\n",
              "      <th>Outlet_Type</th>\n",
              "      <th>Item_Outlet_Sales</th>\n",
              "    </tr>\n",
              "  </thead>\n",
              "  <tbody>\n",
              "    <tr>\n",
              "      <th>0</th>\n",
              "      <td>FDA15</td>\n",
              "      <td>9.30</td>\n",
              "      <td>Low Fat</td>\n",
              "      <td>0.016047</td>\n",
              "      <td>Dairy</td>\n",
              "      <td>249.8092</td>\n",
              "      <td>OUT049</td>\n",
              "      <td>1999</td>\n",
              "      <td>Medium</td>\n",
              "      <td>Tier 1</td>\n",
              "      <td>Supermarket Type1</td>\n",
              "      <td>3735.1380</td>\n",
              "    </tr>\n",
              "    <tr>\n",
              "      <th>1</th>\n",
              "      <td>DRC01</td>\n",
              "      <td>5.92</td>\n",
              "      <td>Regular</td>\n",
              "      <td>0.019278</td>\n",
              "      <td>Soft Drinks</td>\n",
              "      <td>48.2692</td>\n",
              "      <td>OUT018</td>\n",
              "      <td>2009</td>\n",
              "      <td>Medium</td>\n",
              "      <td>Tier 3</td>\n",
              "      <td>Supermarket Type2</td>\n",
              "      <td>443.4228</td>\n",
              "    </tr>\n",
              "    <tr>\n",
              "      <th>2</th>\n",
              "      <td>FDN15</td>\n",
              "      <td>17.50</td>\n",
              "      <td>Low Fat</td>\n",
              "      <td>0.016760</td>\n",
              "      <td>Meat</td>\n",
              "      <td>141.6180</td>\n",
              "      <td>OUT049</td>\n",
              "      <td>1999</td>\n",
              "      <td>Medium</td>\n",
              "      <td>Tier 1</td>\n",
              "      <td>Supermarket Type1</td>\n",
              "      <td>2097.2700</td>\n",
              "    </tr>\n",
              "    <tr>\n",
              "      <th>3</th>\n",
              "      <td>FDX07</td>\n",
              "      <td>19.20</td>\n",
              "      <td>Regular</td>\n",
              "      <td>0.000000</td>\n",
              "      <td>Fruits and Vegetables</td>\n",
              "      <td>182.0950</td>\n",
              "      <td>OUT010</td>\n",
              "      <td>1998</td>\n",
              "      <td>NaN</td>\n",
              "      <td>Tier 3</td>\n",
              "      <td>Grocery Store</td>\n",
              "      <td>732.3800</td>\n",
              "    </tr>\n",
              "    <tr>\n",
              "      <th>4</th>\n",
              "      <td>NCD19</td>\n",
              "      <td>8.93</td>\n",
              "      <td>Low Fat</td>\n",
              "      <td>0.000000</td>\n",
              "      <td>Household</td>\n",
              "      <td>53.8614</td>\n",
              "      <td>OUT013</td>\n",
              "      <td>1987</td>\n",
              "      <td>High</td>\n",
              "      <td>Tier 3</td>\n",
              "      <td>Supermarket Type1</td>\n",
              "      <td>994.7052</td>\n",
              "    </tr>\n",
              "  </tbody>\n",
              "</table>\n",
              "</div>\n",
              "      <button class=\"colab-df-convert\" onclick=\"convertToInteractive('df-a55f0412-01b0-4f51-b066-84ac2fe622c6')\"\n",
              "              title=\"Convert this dataframe to an interactive table.\"\n",
              "              style=\"display:none;\">\n",
              "        \n",
              "  <svg xmlns=\"http://www.w3.org/2000/svg\" height=\"24px\"viewBox=\"0 0 24 24\"\n",
              "       width=\"24px\">\n",
              "    <path d=\"M0 0h24v24H0V0z\" fill=\"none\"/>\n",
              "    <path d=\"M18.56 5.44l.94 2.06.94-2.06 2.06-.94-2.06-.94-.94-2.06-.94 2.06-2.06.94zm-11 1L8.5 8.5l.94-2.06 2.06-.94-2.06-.94L8.5 2.5l-.94 2.06-2.06.94zm10 10l.94 2.06.94-2.06 2.06-.94-2.06-.94-.94-2.06-.94 2.06-2.06.94z\"/><path d=\"M17.41 7.96l-1.37-1.37c-.4-.4-.92-.59-1.43-.59-.52 0-1.04.2-1.43.59L10.3 9.45l-7.72 7.72c-.78.78-.78 2.05 0 2.83L4 21.41c.39.39.9.59 1.41.59.51 0 1.02-.2 1.41-.59l7.78-7.78 2.81-2.81c.8-.78.8-2.07 0-2.86zM5.41 20L4 18.59l7.72-7.72 1.47 1.35L5.41 20z\"/>\n",
              "  </svg>\n",
              "      </button>\n",
              "      \n",
              "  <style>\n",
              "    .colab-df-container {\n",
              "      display:flex;\n",
              "      flex-wrap:wrap;\n",
              "      gap: 12px;\n",
              "    }\n",
              "\n",
              "    .colab-df-convert {\n",
              "      background-color: #E8F0FE;\n",
              "      border: none;\n",
              "      border-radius: 50%;\n",
              "      cursor: pointer;\n",
              "      display: none;\n",
              "      fill: #1967D2;\n",
              "      height: 32px;\n",
              "      padding: 0 0 0 0;\n",
              "      width: 32px;\n",
              "    }\n",
              "\n",
              "    .colab-df-convert:hover {\n",
              "      background-color: #E2EBFA;\n",
              "      box-shadow: 0px 1px 2px rgba(60, 64, 67, 0.3), 0px 1px 3px 1px rgba(60, 64, 67, 0.15);\n",
              "      fill: #174EA6;\n",
              "    }\n",
              "\n",
              "    [theme=dark] .colab-df-convert {\n",
              "      background-color: #3B4455;\n",
              "      fill: #D2E3FC;\n",
              "    }\n",
              "\n",
              "    [theme=dark] .colab-df-convert:hover {\n",
              "      background-color: #434B5C;\n",
              "      box-shadow: 0px 1px 3px 1px rgba(0, 0, 0, 0.15);\n",
              "      filter: drop-shadow(0px 1px 2px rgba(0, 0, 0, 0.3));\n",
              "      fill: #FFFFFF;\n",
              "    }\n",
              "  </style>\n",
              "\n",
              "      <script>\n",
              "        const buttonEl =\n",
              "          document.querySelector('#df-a55f0412-01b0-4f51-b066-84ac2fe622c6 button.colab-df-convert');\n",
              "        buttonEl.style.display =\n",
              "          google.colab.kernel.accessAllowed ? 'block' : 'none';\n",
              "\n",
              "        async function convertToInteractive(key) {\n",
              "          const element = document.querySelector('#df-a55f0412-01b0-4f51-b066-84ac2fe622c6');\n",
              "          const dataTable =\n",
              "            await google.colab.kernel.invokeFunction('convertToInteractive',\n",
              "                                                     [key], {});\n",
              "          if (!dataTable) return;\n",
              "\n",
              "          const docLinkHtml = 'Like what you see? Visit the ' +\n",
              "            '<a target=\"_blank\" href=https://colab.research.google.com/notebooks/data_table.ipynb>data table notebook</a>'\n",
              "            + ' to learn more about interactive tables.';\n",
              "          element.innerHTML = '';\n",
              "          dataTable['output_type'] = 'display_data';\n",
              "          await google.colab.output.renderOutput(dataTable, element);\n",
              "          const docLink = document.createElement('div');\n",
              "          docLink.innerHTML = docLinkHtml;\n",
              "          element.appendChild(docLink);\n",
              "        }\n",
              "      </script>\n",
              "    </div>\n",
              "  </div>\n",
              "  "
            ]
          },
          "metadata": {},
          "execution_count": 39
        }
      ]
    },
    {
      "cell_type": "code",
      "source": [
        "df.info()"
      ],
      "metadata": {
        "colab": {
          "base_uri": "https://localhost:8080/"
        },
        "id": "wKvrvFK1_wJd",
        "outputId": "49294691-4739-45a0-809b-7ada7c3a8fed"
      },
      "execution_count": 40,
      "outputs": [
        {
          "output_type": "stream",
          "name": "stdout",
          "text": [
            "<class 'pandas.core.frame.DataFrame'>\n",
            "RangeIndex: 8523 entries, 0 to 8522\n",
            "Data columns (total 12 columns):\n",
            " #   Column                     Non-Null Count  Dtype  \n",
            "---  ------                     --------------  -----  \n",
            " 0   Item_Identifier            8523 non-null   object \n",
            " 1   Item_Weight                7060 non-null   float64\n",
            " 2   Item_Fat_Content           8523 non-null   object \n",
            " 3   Item_Visibility            8523 non-null   float64\n",
            " 4   Item_Type                  8523 non-null   object \n",
            " 5   Item_MRP                   8523 non-null   float64\n",
            " 6   Outlet_Identifier          8523 non-null   object \n",
            " 7   Outlet_Establishment_Year  8523 non-null   int64  \n",
            " 8   Outlet_Size                6113 non-null   object \n",
            " 9   Outlet_Location_Type       8523 non-null   object \n",
            " 10  Outlet_Type                8523 non-null   object \n",
            " 11  Item_Outlet_Sales          8523 non-null   float64\n",
            "dtypes: float64(4), int64(1), object(7)\n",
            "memory usage: 799.2+ KB\n"
          ]
        }
      ]
    },
    {
      "cell_type": "markdown",
      "source": [
        "#Check Duplicates"
      ],
      "metadata": {
        "id": "1UQ_MhlBokQe"
      }
    },
    {
      "cell_type": "code",
      "source": [
        "df.duplicated().sum()"
      ],
      "metadata": {
        "colab": {
          "base_uri": "https://localhost:8080/"
        },
        "id": "sUxDRyNPutw4",
        "outputId": "62b57cb9-26aa-4270-be1d-ceaee63ce7bf"
      },
      "execution_count": 41,
      "outputs": [
        {
          "output_type": "execute_result",
          "data": {
            "text/plain": [
              "0"
            ]
          },
          "metadata": {},
          "execution_count": 41
        }
      ]
    },
    {
      "cell_type": "markdown",
      "source": [
        "#Check Inconsistancies\n",
        "\n"
      ],
      "metadata": {
        "id": "dGNWALx60qMv"
      }
    },
    {
      "cell_type": "markdown",
      "source": [
        "##Break into number and object columns"
      ],
      "metadata": {
        "id": "tTfYfyQu4XP2"
      }
    },
    {
      "cell_type": "code",
      "source": [
        "#instantiate selectors for numberic and categorical data\n",
        "num_selector = make_column_selector(dtype_include = 'number')\n",
        "cat_selector = make_column_selector(dtype_include = 'object')\n",
        "\n",
        "#select the columns of each type\n",
        "num_columns = num_selector(df)\n",
        "cat_columns = cat_selector(df)\n",
        "\n",
        "#check lists\n",
        "print('numeric columns are', num_columns)\n",
        "print('categorical columns are all nominal', cat_columns)"
      ],
      "metadata": {
        "colab": {
          "base_uri": "https://localhost:8080/"
        },
        "id": "G2GC91Fg1drx",
        "outputId": "8834dfe3-cf00-4330-f8f3-854f4f16c6fb"
      },
      "execution_count": 42,
      "outputs": [
        {
          "output_type": "stream",
          "name": "stdout",
          "text": [
            "numeric columns are ['Item_Weight', 'Item_Visibility', 'Item_MRP', 'Outlet_Establishment_Year', 'Item_Outlet_Sales']\n",
            "categorical columns are all nominal ['Item_Identifier', 'Item_Fat_Content', 'Item_Type', 'Outlet_Identifier', 'Outlet_Size', 'Outlet_Location_Type', 'Outlet_Type']\n"
          ]
        }
      ]
    },
    {
      "cell_type": "markdown",
      "source": [
        "##Check value counts on number columns"
      ],
      "metadata": {
        "id": "KvK8ViT94gDD"
      }
    },
    {
      "cell_type": "code",
      "source": [
        "for col in num_columns:\n",
        "  print(f'{col} Value Counts:')\n",
        "  print(df[col].value_counts(dropna = False))\n",
        "  print('\\n\\n')"
      ],
      "metadata": {
        "colab": {
          "base_uri": "https://localhost:8080/"
        },
        "id": "xdDu-deJ1rKf",
        "outputId": "01546eb4-9b6a-4cc6-d347-bd71560ef971"
      },
      "execution_count": 43,
      "outputs": [
        {
          "output_type": "stream",
          "name": "stdout",
          "text": [
            "Item_Weight Value Counts:\n",
            "NaN       1463\n",
            "12.150      86\n",
            "17.600      82\n",
            "13.650      77\n",
            "11.800      76\n",
            "          ... \n",
            "7.275        2\n",
            "7.685        1\n",
            "9.420        1\n",
            "6.520        1\n",
            "5.400        1\n",
            "Name: Item_Weight, Length: 416, dtype: int64\n",
            "\n",
            "\n",
            "\n",
            "Item_Visibility Value Counts:\n",
            "0.000000    526\n",
            "0.076975      3\n",
            "0.162462      2\n",
            "0.076841      2\n",
            "0.073562      2\n",
            "           ... \n",
            "0.013957      1\n",
            "0.110460      1\n",
            "0.124646      1\n",
            "0.054142      1\n",
            "0.044878      1\n",
            "Name: Item_Visibility, Length: 7880, dtype: int64\n",
            "\n",
            "\n",
            "\n",
            "Item_MRP Value Counts:\n",
            "172.0422    7\n",
            "170.5422    6\n",
            "196.5084    6\n",
            "188.1872    6\n",
            "142.0154    6\n",
            "           ..\n",
            "97.3384     1\n",
            "83.1934     1\n",
            "96.6752     1\n",
            "152.6682    1\n",
            "75.4670     1\n",
            "Name: Item_MRP, Length: 5938, dtype: int64\n",
            "\n",
            "\n",
            "\n",
            "Outlet_Establishment_Year Value Counts:\n",
            "1985    1463\n",
            "1987     932\n",
            "1999     930\n",
            "1997     930\n",
            "2004     930\n",
            "2002     929\n",
            "2009     928\n",
            "2007     926\n",
            "1998     555\n",
            "Name: Outlet_Establishment_Year, dtype: int64\n",
            "\n",
            "\n",
            "\n",
            "Item_Outlet_Sales Value Counts:\n",
            "958.7520     17\n",
            "1342.2528    16\n",
            "703.0848     15\n",
            "1845.5976    15\n",
            "1278.3360    14\n",
            "             ..\n",
            "4124.6310     1\n",
            "6622.7126     1\n",
            "1614.5650     1\n",
            "5602.7070     1\n",
            "2778.3834     1\n",
            "Name: Item_Outlet_Sales, Length: 3493, dtype: int64\n",
            "\n",
            "\n",
            "\n"
          ]
        }
      ]
    },
    {
      "cell_type": "markdown",
      "source": [
        "##Check description of numeric columns"
      ],
      "metadata": {
        "id": "2ElK1cdw41n1"
      }
    },
    {
      "cell_type": "code",
      "source": [
        "df[num_columns].describe()"
      ],
      "metadata": {
        "colab": {
          "base_uri": "https://localhost:8080/",
          "height": 300
        },
        "id": "brWVFmYd2mmv",
        "outputId": "773249b6-470d-4c75-868a-63ebb8f101d7"
      },
      "execution_count": 44,
      "outputs": [
        {
          "output_type": "execute_result",
          "data": {
            "text/plain": [
              "       Item_Weight  Item_Visibility     Item_MRP  Outlet_Establishment_Year  \\\n",
              "count  7060.000000      8523.000000  8523.000000                8523.000000   \n",
              "mean     12.857645         0.066132   140.992782                1997.831867   \n",
              "std       4.643456         0.051598    62.275067                   8.371760   \n",
              "min       4.555000         0.000000    31.290000                1985.000000   \n",
              "25%       8.773750         0.026989    93.826500                1987.000000   \n",
              "50%      12.600000         0.053931   143.012800                1999.000000   \n",
              "75%      16.850000         0.094585   185.643700                2004.000000   \n",
              "max      21.350000         0.328391   266.888400                2009.000000   \n",
              "\n",
              "       Item_Outlet_Sales  \n",
              "count        8523.000000  \n",
              "mean         2181.288914  \n",
              "std          1706.499616  \n",
              "min            33.290000  \n",
              "25%           834.247400  \n",
              "50%          1794.331000  \n",
              "75%          3101.296400  \n",
              "max         13086.964800  "
            ],
            "text/html": [
              "\n",
              "  <div id=\"df-8230ed57-2948-4599-9cd4-78d5576e6585\">\n",
              "    <div class=\"colab-df-container\">\n",
              "      <div>\n",
              "<style scoped>\n",
              "    .dataframe tbody tr th:only-of-type {\n",
              "        vertical-align: middle;\n",
              "    }\n",
              "\n",
              "    .dataframe tbody tr th {\n",
              "        vertical-align: top;\n",
              "    }\n",
              "\n",
              "    .dataframe thead th {\n",
              "        text-align: right;\n",
              "    }\n",
              "</style>\n",
              "<table border=\"1\" class=\"dataframe\">\n",
              "  <thead>\n",
              "    <tr style=\"text-align: right;\">\n",
              "      <th></th>\n",
              "      <th>Item_Weight</th>\n",
              "      <th>Item_Visibility</th>\n",
              "      <th>Item_MRP</th>\n",
              "      <th>Outlet_Establishment_Year</th>\n",
              "      <th>Item_Outlet_Sales</th>\n",
              "    </tr>\n",
              "  </thead>\n",
              "  <tbody>\n",
              "    <tr>\n",
              "      <th>count</th>\n",
              "      <td>7060.000000</td>\n",
              "      <td>8523.000000</td>\n",
              "      <td>8523.000000</td>\n",
              "      <td>8523.000000</td>\n",
              "      <td>8523.000000</td>\n",
              "    </tr>\n",
              "    <tr>\n",
              "      <th>mean</th>\n",
              "      <td>12.857645</td>\n",
              "      <td>0.066132</td>\n",
              "      <td>140.992782</td>\n",
              "      <td>1997.831867</td>\n",
              "      <td>2181.288914</td>\n",
              "    </tr>\n",
              "    <tr>\n",
              "      <th>std</th>\n",
              "      <td>4.643456</td>\n",
              "      <td>0.051598</td>\n",
              "      <td>62.275067</td>\n",
              "      <td>8.371760</td>\n",
              "      <td>1706.499616</td>\n",
              "    </tr>\n",
              "    <tr>\n",
              "      <th>min</th>\n",
              "      <td>4.555000</td>\n",
              "      <td>0.000000</td>\n",
              "      <td>31.290000</td>\n",
              "      <td>1985.000000</td>\n",
              "      <td>33.290000</td>\n",
              "    </tr>\n",
              "    <tr>\n",
              "      <th>25%</th>\n",
              "      <td>8.773750</td>\n",
              "      <td>0.026989</td>\n",
              "      <td>93.826500</td>\n",
              "      <td>1987.000000</td>\n",
              "      <td>834.247400</td>\n",
              "    </tr>\n",
              "    <tr>\n",
              "      <th>50%</th>\n",
              "      <td>12.600000</td>\n",
              "      <td>0.053931</td>\n",
              "      <td>143.012800</td>\n",
              "      <td>1999.000000</td>\n",
              "      <td>1794.331000</td>\n",
              "    </tr>\n",
              "    <tr>\n",
              "      <th>75%</th>\n",
              "      <td>16.850000</td>\n",
              "      <td>0.094585</td>\n",
              "      <td>185.643700</td>\n",
              "      <td>2004.000000</td>\n",
              "      <td>3101.296400</td>\n",
              "    </tr>\n",
              "    <tr>\n",
              "      <th>max</th>\n",
              "      <td>21.350000</td>\n",
              "      <td>0.328391</td>\n",
              "      <td>266.888400</td>\n",
              "      <td>2009.000000</td>\n",
              "      <td>13086.964800</td>\n",
              "    </tr>\n",
              "  </tbody>\n",
              "</table>\n",
              "</div>\n",
              "      <button class=\"colab-df-convert\" onclick=\"convertToInteractive('df-8230ed57-2948-4599-9cd4-78d5576e6585')\"\n",
              "              title=\"Convert this dataframe to an interactive table.\"\n",
              "              style=\"display:none;\">\n",
              "        \n",
              "  <svg xmlns=\"http://www.w3.org/2000/svg\" height=\"24px\"viewBox=\"0 0 24 24\"\n",
              "       width=\"24px\">\n",
              "    <path d=\"M0 0h24v24H0V0z\" fill=\"none\"/>\n",
              "    <path d=\"M18.56 5.44l.94 2.06.94-2.06 2.06-.94-2.06-.94-.94-2.06-.94 2.06-2.06.94zm-11 1L8.5 8.5l.94-2.06 2.06-.94-2.06-.94L8.5 2.5l-.94 2.06-2.06.94zm10 10l.94 2.06.94-2.06 2.06-.94-2.06-.94-.94-2.06-.94 2.06-2.06.94z\"/><path d=\"M17.41 7.96l-1.37-1.37c-.4-.4-.92-.59-1.43-.59-.52 0-1.04.2-1.43.59L10.3 9.45l-7.72 7.72c-.78.78-.78 2.05 0 2.83L4 21.41c.39.39.9.59 1.41.59.51 0 1.02-.2 1.41-.59l7.78-7.78 2.81-2.81c.8-.78.8-2.07 0-2.86zM5.41 20L4 18.59l7.72-7.72 1.47 1.35L5.41 20z\"/>\n",
              "  </svg>\n",
              "      </button>\n",
              "      \n",
              "  <style>\n",
              "    .colab-df-container {\n",
              "      display:flex;\n",
              "      flex-wrap:wrap;\n",
              "      gap: 12px;\n",
              "    }\n",
              "\n",
              "    .colab-df-convert {\n",
              "      background-color: #E8F0FE;\n",
              "      border: none;\n",
              "      border-radius: 50%;\n",
              "      cursor: pointer;\n",
              "      display: none;\n",
              "      fill: #1967D2;\n",
              "      height: 32px;\n",
              "      padding: 0 0 0 0;\n",
              "      width: 32px;\n",
              "    }\n",
              "\n",
              "    .colab-df-convert:hover {\n",
              "      background-color: #E2EBFA;\n",
              "      box-shadow: 0px 1px 2px rgba(60, 64, 67, 0.3), 0px 1px 3px 1px rgba(60, 64, 67, 0.15);\n",
              "      fill: #174EA6;\n",
              "    }\n",
              "\n",
              "    [theme=dark] .colab-df-convert {\n",
              "      background-color: #3B4455;\n",
              "      fill: #D2E3FC;\n",
              "    }\n",
              "\n",
              "    [theme=dark] .colab-df-convert:hover {\n",
              "      background-color: #434B5C;\n",
              "      box-shadow: 0px 1px 3px 1px rgba(0, 0, 0, 0.15);\n",
              "      filter: drop-shadow(0px 1px 2px rgba(0, 0, 0, 0.3));\n",
              "      fill: #FFFFFF;\n",
              "    }\n",
              "  </style>\n",
              "\n",
              "      <script>\n",
              "        const buttonEl =\n",
              "          document.querySelector('#df-8230ed57-2948-4599-9cd4-78d5576e6585 button.colab-df-convert');\n",
              "        buttonEl.style.display =\n",
              "          google.colab.kernel.accessAllowed ? 'block' : 'none';\n",
              "\n",
              "        async function convertToInteractive(key) {\n",
              "          const element = document.querySelector('#df-8230ed57-2948-4599-9cd4-78d5576e6585');\n",
              "          const dataTable =\n",
              "            await google.colab.kernel.invokeFunction('convertToInteractive',\n",
              "                                                     [key], {});\n",
              "          if (!dataTable) return;\n",
              "\n",
              "          const docLinkHtml = 'Like what you see? Visit the ' +\n",
              "            '<a target=\"_blank\" href=https://colab.research.google.com/notebooks/data_table.ipynb>data table notebook</a>'\n",
              "            + ' to learn more about interactive tables.';\n",
              "          element.innerHTML = '';\n",
              "          dataTable['output_type'] = 'display_data';\n",
              "          await google.colab.output.renderOutput(dataTable, element);\n",
              "          const docLink = document.createElement('div');\n",
              "          docLink.innerHTML = docLinkHtml;\n",
              "          element.appendChild(docLink);\n",
              "        }\n",
              "      </script>\n",
              "    </div>\n",
              "  </div>\n",
              "  "
            ]
          },
          "metadata": {},
          "execution_count": 44
        }
      ]
    },
    {
      "cell_type": "markdown",
      "source": [
        "##Check for Missing Values on numeric columns"
      ],
      "metadata": {
        "id": "67eR4A5eCKMY"
      }
    },
    {
      "cell_type": "code",
      "source": [
        "df[num_columns].isna().sum()"
      ],
      "metadata": {
        "colab": {
          "base_uri": "https://localhost:8080/"
        },
        "id": "jajZ0EfgA_JF",
        "outputId": "916db716-8f34-487b-8c9c-9e0be8f2d82a"
      },
      "execution_count": 45,
      "outputs": [
        {
          "output_type": "execute_result",
          "data": {
            "text/plain": [
              "Item_Weight                  1463\n",
              "Item_Visibility                 0\n",
              "Item_MRP                        0\n",
              "Outlet_Establishment_Year       0\n",
              "Item_Outlet_Sales               0\n",
              "dtype: int64"
            ]
          },
          "metadata": {},
          "execution_count": 45
        }
      ]
    },
    {
      "cell_type": "code",
      "source": [
        "Item_Weight_missing = df['Item_Weight'].isna().sum()\n",
        "print(f'Item Weight has {Item_Weight_missing} missing values')"
      ],
      "metadata": {
        "colab": {
          "base_uri": "https://localhost:8080/"
        },
        "id": "Hd0V4RLUBQF7",
        "outputId": "59703973-2b1a-4010-9283-d9bee3fb67e6"
      },
      "execution_count": 46,
      "outputs": [
        {
          "output_type": "stream",
          "name": "stdout",
          "text": [
            "Item Weight has 1463 missing values\n"
          ]
        }
      ]
    },
    {
      "cell_type": "markdown",
      "source": [
        "##Check value counts on categorical columns"
      ],
      "metadata": {
        "id": "HCY6Ih7I5IcE"
      }
    },
    {
      "cell_type": "code",
      "source": [
        "for col in cat_columns:\n",
        "  print(f'{col} Value Counts:')\n",
        "  print(df[col].value_counts(dropna = False))\n",
        "  print('\\n\\n')"
      ],
      "metadata": {
        "colab": {
          "base_uri": "https://localhost:8080/"
        },
        "id": "UZ1NDAct5P4y",
        "outputId": "4eba078d-53ed-4606-a615-3e03f436907e"
      },
      "execution_count": 47,
      "outputs": [
        {
          "output_type": "stream",
          "name": "stdout",
          "text": [
            "Item_Identifier Value Counts:\n",
            "FDW13    10\n",
            "FDG33    10\n",
            "NCY18     9\n",
            "FDD38     9\n",
            "DRE49     9\n",
            "         ..\n",
            "FDY43     1\n",
            "FDQ60     1\n",
            "FDO33     1\n",
            "DRF48     1\n",
            "FDC23     1\n",
            "Name: Item_Identifier, Length: 1559, dtype: int64\n",
            "\n",
            "\n",
            "\n",
            "Item_Fat_Content Value Counts:\n",
            "Low Fat    5089\n",
            "Regular    2889\n",
            "LF          316\n",
            "reg         117\n",
            "low fat     112\n",
            "Name: Item_Fat_Content, dtype: int64\n",
            "\n",
            "\n",
            "\n",
            "Item_Type Value Counts:\n",
            "Fruits and Vegetables    1232\n",
            "Snack Foods              1200\n",
            "Household                 910\n",
            "Frozen Foods              856\n",
            "Dairy                     682\n",
            "Canned                    649\n",
            "Baking Goods              648\n",
            "Health and Hygiene        520\n",
            "Soft Drinks               445\n",
            "Meat                      425\n",
            "Breads                    251\n",
            "Hard Drinks               214\n",
            "Others                    169\n",
            "Starchy Foods             148\n",
            "Breakfast                 110\n",
            "Seafood                    64\n",
            "Name: Item_Type, dtype: int64\n",
            "\n",
            "\n",
            "\n",
            "Outlet_Identifier Value Counts:\n",
            "OUT027    935\n",
            "OUT013    932\n",
            "OUT049    930\n",
            "OUT046    930\n",
            "OUT035    930\n",
            "OUT045    929\n",
            "OUT018    928\n",
            "OUT017    926\n",
            "OUT010    555\n",
            "OUT019    528\n",
            "Name: Outlet_Identifier, dtype: int64\n",
            "\n",
            "\n",
            "\n",
            "Outlet_Size Value Counts:\n",
            "Medium    2793\n",
            "NaN       2410\n",
            "Small     2388\n",
            "High       932\n",
            "Name: Outlet_Size, dtype: int64\n",
            "\n",
            "\n",
            "\n",
            "Outlet_Location_Type Value Counts:\n",
            "Tier 3    3350\n",
            "Tier 2    2785\n",
            "Tier 1    2388\n",
            "Name: Outlet_Location_Type, dtype: int64\n",
            "\n",
            "\n",
            "\n",
            "Outlet_Type Value Counts:\n",
            "Supermarket Type1    5577\n",
            "Grocery Store        1083\n",
            "Supermarket Type3     935\n",
            "Supermarket Type2     928\n",
            "Name: Outlet_Type, dtype: int64\n",
            "\n",
            "\n",
            "\n"
          ]
        }
      ]
    },
    {
      "cell_type": "markdown",
      "source": [
        "##Check Missing Values on categorical columns"
      ],
      "metadata": {
        "id": "PFlJfMIFCpWF"
      }
    },
    {
      "cell_type": "code",
      "source": [
        "df[cat_columns].isna().sum()"
      ],
      "metadata": {
        "colab": {
          "base_uri": "https://localhost:8080/"
        },
        "id": "c2o7ATnECotp",
        "outputId": "f5681e5e-8b9a-4834-f265-1795ee766b01"
      },
      "execution_count": 65,
      "outputs": [
        {
          "output_type": "execute_result",
          "data": {
            "text/plain": [
              "Item_Identifier            0\n",
              "Item_Fat_Content           0\n",
              "Item_Type                  0\n",
              "Outlet_Identifier          0\n",
              "Outlet_Size             2410\n",
              "Outlet_Location_Type       0\n",
              "Outlet_Type                0\n",
              "dtype: int64"
            ]
          },
          "metadata": {},
          "execution_count": 65
        }
      ]
    },
    {
      "cell_type": "code",
      "source": [
        "Outlet_Size_missing = df['Outlet_Size'].isna().sum()\n",
        "print(f'Outlet_Size has {Outlet_Size_missing} missing values')"
      ],
      "metadata": {
        "colab": {
          "base_uri": "https://localhost:8080/"
        },
        "id": "ocw_LGurCxqL",
        "outputId": "3759dbf0-3cbb-4cfe-fa6c-e6dbfed04484"
      },
      "execution_count": 49,
      "outputs": [
        {
          "output_type": "stream",
          "name": "stdout",
          "text": [
            "Outlet_Size has 2410 missing values\n"
          ]
        }
      ]
    },
    {
      "cell_type": "markdown",
      "source": [
        "#Split"
      ],
      "metadata": {
        "id": "sO5Kt-G4oZdy"
      }
    },
    {
      "cell_type": "code",
      "source": [
        "target = 'Item_Outlet_Sales'\n",
        "other_columns = 'Item_Identifier'\n",
        "X = df.drop(columns = [target,other_columns])\n",
        "y = df[target]\n",
        "X_train, X_test, y_train, y_test = train_test_split(X, y, random_state=42)"
      ],
      "metadata": {
        "id": "i2o16nWfLR3I"
      },
      "execution_count": 50,
      "outputs": []
    },
    {
      "cell_type": "markdown",
      "source": [
        "#Imputers, OHE, Scaler"
      ],
      "metadata": {
        "id": "JYWi29gPHkO1"
      }
    },
    {
      "cell_type": "code",
      "source": [
        "# Imputers\n",
        "mean_imputer = SimpleImputer(strategy='mean') #mean strategy for numeric cols\n",
        "freq_imputer = SimpleImputer(strategy='most_frequent') #most frequent for cat cols\n",
        "\n",
        "# One-hot encoder\n",
        "ohe = OneHotEncoder(handle_unknown='ignore', sparse=False)\n",
        "\n",
        "# Scaler\n",
        "scaler = StandardScaler() #scaler for numeric columns"
      ],
      "metadata": {
        "id": "lVDfJiEtL5to"
      },
      "execution_count": 51,
      "outputs": []
    },
    {
      "cell_type": "markdown",
      "source": [
        "#Numeric Pipeline"
      ],
      "metadata": {
        "id": "J-tSAm4CHtzE"
      }
    },
    {
      "cell_type": "code",
      "source": [
        "numeric_pipe = make_pipeline(mean_imputer, scaler)\n",
        "numeric_pipe"
      ],
      "metadata": {
        "colab": {
          "base_uri": "https://localhost:8080/",
          "height": 126
        },
        "id": "BFerj0nDMdj2",
        "outputId": "a367f0af-5fa2-4e2d-a568-f4c02dd0f005"
      },
      "execution_count": 52,
      "outputs": [
        {
          "output_type": "execute_result",
          "data": {
            "text/plain": [
              "Pipeline(steps=[('simpleimputer', SimpleImputer()),\n",
              "                ('standardscaler', StandardScaler())])"
            ],
            "text/html": [
              "<style>#sk-ce5f2bc6-6209-408f-bf45-bb1bb0fc0f83 {color: black;background-color: white;}#sk-ce5f2bc6-6209-408f-bf45-bb1bb0fc0f83 pre{padding: 0;}#sk-ce5f2bc6-6209-408f-bf45-bb1bb0fc0f83 div.sk-toggleable {background-color: white;}#sk-ce5f2bc6-6209-408f-bf45-bb1bb0fc0f83 label.sk-toggleable__label {cursor: pointer;display: block;width: 100%;margin-bottom: 0;padding: 0.3em;box-sizing: border-box;text-align: center;}#sk-ce5f2bc6-6209-408f-bf45-bb1bb0fc0f83 label.sk-toggleable__label-arrow:before {content: \"▸\";float: left;margin-right: 0.25em;color: #696969;}#sk-ce5f2bc6-6209-408f-bf45-bb1bb0fc0f83 label.sk-toggleable__label-arrow:hover:before {color: black;}#sk-ce5f2bc6-6209-408f-bf45-bb1bb0fc0f83 div.sk-estimator:hover label.sk-toggleable__label-arrow:before {color: black;}#sk-ce5f2bc6-6209-408f-bf45-bb1bb0fc0f83 div.sk-toggleable__content {max-height: 0;max-width: 0;overflow: hidden;text-align: left;background-color: #f0f8ff;}#sk-ce5f2bc6-6209-408f-bf45-bb1bb0fc0f83 div.sk-toggleable__content pre {margin: 0.2em;color: black;border-radius: 0.25em;background-color: #f0f8ff;}#sk-ce5f2bc6-6209-408f-bf45-bb1bb0fc0f83 input.sk-toggleable__control:checked~div.sk-toggleable__content {max-height: 200px;max-width: 100%;overflow: auto;}#sk-ce5f2bc6-6209-408f-bf45-bb1bb0fc0f83 input.sk-toggleable__control:checked~label.sk-toggleable__label-arrow:before {content: \"▾\";}#sk-ce5f2bc6-6209-408f-bf45-bb1bb0fc0f83 div.sk-estimator input.sk-toggleable__control:checked~label.sk-toggleable__label {background-color: #d4ebff;}#sk-ce5f2bc6-6209-408f-bf45-bb1bb0fc0f83 div.sk-label input.sk-toggleable__control:checked~label.sk-toggleable__label {background-color: #d4ebff;}#sk-ce5f2bc6-6209-408f-bf45-bb1bb0fc0f83 input.sk-hidden--visually {border: 0;clip: rect(1px 1px 1px 1px);clip: rect(1px, 1px, 1px, 1px);height: 1px;margin: -1px;overflow: hidden;padding: 0;position: absolute;width: 1px;}#sk-ce5f2bc6-6209-408f-bf45-bb1bb0fc0f83 div.sk-estimator {font-family: monospace;background-color: #f0f8ff;border: 1px dotted black;border-radius: 0.25em;box-sizing: border-box;margin-bottom: 0.5em;}#sk-ce5f2bc6-6209-408f-bf45-bb1bb0fc0f83 div.sk-estimator:hover {background-color: #d4ebff;}#sk-ce5f2bc6-6209-408f-bf45-bb1bb0fc0f83 div.sk-parallel-item::after {content: \"\";width: 100%;border-bottom: 1px solid gray;flex-grow: 1;}#sk-ce5f2bc6-6209-408f-bf45-bb1bb0fc0f83 div.sk-label:hover label.sk-toggleable__label {background-color: #d4ebff;}#sk-ce5f2bc6-6209-408f-bf45-bb1bb0fc0f83 div.sk-serial::before {content: \"\";position: absolute;border-left: 1px solid gray;box-sizing: border-box;top: 2em;bottom: 0;left: 50%;}#sk-ce5f2bc6-6209-408f-bf45-bb1bb0fc0f83 div.sk-serial {display: flex;flex-direction: column;align-items: center;background-color: white;padding-right: 0.2em;padding-left: 0.2em;}#sk-ce5f2bc6-6209-408f-bf45-bb1bb0fc0f83 div.sk-item {z-index: 1;}#sk-ce5f2bc6-6209-408f-bf45-bb1bb0fc0f83 div.sk-parallel {display: flex;align-items: stretch;justify-content: center;background-color: white;}#sk-ce5f2bc6-6209-408f-bf45-bb1bb0fc0f83 div.sk-parallel::before {content: \"\";position: absolute;border-left: 1px solid gray;box-sizing: border-box;top: 2em;bottom: 0;left: 50%;}#sk-ce5f2bc6-6209-408f-bf45-bb1bb0fc0f83 div.sk-parallel-item {display: flex;flex-direction: column;position: relative;background-color: white;}#sk-ce5f2bc6-6209-408f-bf45-bb1bb0fc0f83 div.sk-parallel-item:first-child::after {align-self: flex-end;width: 50%;}#sk-ce5f2bc6-6209-408f-bf45-bb1bb0fc0f83 div.sk-parallel-item:last-child::after {align-self: flex-start;width: 50%;}#sk-ce5f2bc6-6209-408f-bf45-bb1bb0fc0f83 div.sk-parallel-item:only-child::after {width: 0;}#sk-ce5f2bc6-6209-408f-bf45-bb1bb0fc0f83 div.sk-dashed-wrapped {border: 1px dashed gray;margin: 0 0.4em 0.5em 0.4em;box-sizing: border-box;padding-bottom: 0.4em;background-color: white;position: relative;}#sk-ce5f2bc6-6209-408f-bf45-bb1bb0fc0f83 div.sk-label label {font-family: monospace;font-weight: bold;background-color: white;display: inline-block;line-height: 1.2em;}#sk-ce5f2bc6-6209-408f-bf45-bb1bb0fc0f83 div.sk-label-container {position: relative;z-index: 2;text-align: center;}#sk-ce5f2bc6-6209-408f-bf45-bb1bb0fc0f83 div.sk-container {/* jupyter's `normalize.less` sets `[hidden] { display: none; }` but bootstrap.min.css set `[hidden] { display: none !important; }` so we also need the `!important` here to be able to override the default hidden behavior on the sphinx rendered scikit-learn.org. See: https://github.com/scikit-learn/scikit-learn/issues/21755 */display: inline-block !important;position: relative;}#sk-ce5f2bc6-6209-408f-bf45-bb1bb0fc0f83 div.sk-text-repr-fallback {display: none;}</style><div id=\"sk-ce5f2bc6-6209-408f-bf45-bb1bb0fc0f83\" class=\"sk-top-container\"><div class=\"sk-text-repr-fallback\"><pre>Pipeline(steps=[(&#x27;simpleimputer&#x27;, SimpleImputer()),\n",
              "                (&#x27;standardscaler&#x27;, StandardScaler())])</pre><b>Please rerun this cell to show the HTML repr or trust the notebook.</b></div><div class=\"sk-container\" hidden><div class=\"sk-item sk-dashed-wrapped\"><div class=\"sk-label-container\"><div class=\"sk-label sk-toggleable\"><input class=\"sk-toggleable__control sk-hidden--visually\" id=\"b33f2ebc-f369-4de5-9bef-853cba029a37\" type=\"checkbox\" ><label for=\"b33f2ebc-f369-4de5-9bef-853cba029a37\" class=\"sk-toggleable__label sk-toggleable__label-arrow\">Pipeline</label><div class=\"sk-toggleable__content\"><pre>Pipeline(steps=[(&#x27;simpleimputer&#x27;, SimpleImputer()),\n",
              "                (&#x27;standardscaler&#x27;, StandardScaler())])</pre></div></div></div><div class=\"sk-serial\"><div class=\"sk-item\"><div class=\"sk-estimator sk-toggleable\"><input class=\"sk-toggleable__control sk-hidden--visually\" id=\"d3619d5e-1505-4b78-9a98-d209523d490e\" type=\"checkbox\" ><label for=\"d3619d5e-1505-4b78-9a98-d209523d490e\" class=\"sk-toggleable__label sk-toggleable__label-arrow\">SimpleImputer</label><div class=\"sk-toggleable__content\"><pre>SimpleImputer()</pre></div></div></div><div class=\"sk-item\"><div class=\"sk-estimator sk-toggleable\"><input class=\"sk-toggleable__control sk-hidden--visually\" id=\"4bdb5aea-9a1f-4bc9-af46-8a353c791d41\" type=\"checkbox\" ><label for=\"4bdb5aea-9a1f-4bc9-af46-8a353c791d41\" class=\"sk-toggleable__label sk-toggleable__label-arrow\">StandardScaler</label><div class=\"sk-toggleable__content\"><pre>StandardScaler()</pre></div></div></div></div></div></div></div>"
            ]
          },
          "metadata": {},
          "execution_count": 52
        }
      ]
    },
    {
      "cell_type": "markdown",
      "source": [
        "#Categorial Pipeline"
      ],
      "metadata": {
        "id": "pUYPMIZ6Hw9N"
      }
    },
    {
      "cell_type": "code",
      "source": [
        "categorical_pipe = make_pipeline(freq_imputer, ohe)\n",
        "categorical_pipe"
      ],
      "metadata": {
        "colab": {
          "base_uri": "https://localhost:8080/",
          "height": 126
        },
        "id": "72dRRUpiMpK2",
        "outputId": "0f88c101-da0f-484e-b882-65f6bfc1c61f"
      },
      "execution_count": 53,
      "outputs": [
        {
          "output_type": "execute_result",
          "data": {
            "text/plain": [
              "Pipeline(steps=[('simpleimputer', SimpleImputer(strategy='most_frequent')),\n",
              "                ('onehotencoder',\n",
              "                 OneHotEncoder(handle_unknown='ignore', sparse=False))])"
            ],
            "text/html": [
              "<style>#sk-693390d4-cc4e-419b-816a-45f5eceb5297 {color: black;background-color: white;}#sk-693390d4-cc4e-419b-816a-45f5eceb5297 pre{padding: 0;}#sk-693390d4-cc4e-419b-816a-45f5eceb5297 div.sk-toggleable {background-color: white;}#sk-693390d4-cc4e-419b-816a-45f5eceb5297 label.sk-toggleable__label {cursor: pointer;display: block;width: 100%;margin-bottom: 0;padding: 0.3em;box-sizing: border-box;text-align: center;}#sk-693390d4-cc4e-419b-816a-45f5eceb5297 label.sk-toggleable__label-arrow:before {content: \"▸\";float: left;margin-right: 0.25em;color: #696969;}#sk-693390d4-cc4e-419b-816a-45f5eceb5297 label.sk-toggleable__label-arrow:hover:before {color: black;}#sk-693390d4-cc4e-419b-816a-45f5eceb5297 div.sk-estimator:hover label.sk-toggleable__label-arrow:before {color: black;}#sk-693390d4-cc4e-419b-816a-45f5eceb5297 div.sk-toggleable__content {max-height: 0;max-width: 0;overflow: hidden;text-align: left;background-color: #f0f8ff;}#sk-693390d4-cc4e-419b-816a-45f5eceb5297 div.sk-toggleable__content pre {margin: 0.2em;color: black;border-radius: 0.25em;background-color: #f0f8ff;}#sk-693390d4-cc4e-419b-816a-45f5eceb5297 input.sk-toggleable__control:checked~div.sk-toggleable__content {max-height: 200px;max-width: 100%;overflow: auto;}#sk-693390d4-cc4e-419b-816a-45f5eceb5297 input.sk-toggleable__control:checked~label.sk-toggleable__label-arrow:before {content: \"▾\";}#sk-693390d4-cc4e-419b-816a-45f5eceb5297 div.sk-estimator input.sk-toggleable__control:checked~label.sk-toggleable__label {background-color: #d4ebff;}#sk-693390d4-cc4e-419b-816a-45f5eceb5297 div.sk-label input.sk-toggleable__control:checked~label.sk-toggleable__label {background-color: #d4ebff;}#sk-693390d4-cc4e-419b-816a-45f5eceb5297 input.sk-hidden--visually {border: 0;clip: rect(1px 1px 1px 1px);clip: rect(1px, 1px, 1px, 1px);height: 1px;margin: -1px;overflow: hidden;padding: 0;position: absolute;width: 1px;}#sk-693390d4-cc4e-419b-816a-45f5eceb5297 div.sk-estimator {font-family: monospace;background-color: #f0f8ff;border: 1px dotted black;border-radius: 0.25em;box-sizing: border-box;margin-bottom: 0.5em;}#sk-693390d4-cc4e-419b-816a-45f5eceb5297 div.sk-estimator:hover {background-color: #d4ebff;}#sk-693390d4-cc4e-419b-816a-45f5eceb5297 div.sk-parallel-item::after {content: \"\";width: 100%;border-bottom: 1px solid gray;flex-grow: 1;}#sk-693390d4-cc4e-419b-816a-45f5eceb5297 div.sk-label:hover label.sk-toggleable__label {background-color: #d4ebff;}#sk-693390d4-cc4e-419b-816a-45f5eceb5297 div.sk-serial::before {content: \"\";position: absolute;border-left: 1px solid gray;box-sizing: border-box;top: 2em;bottom: 0;left: 50%;}#sk-693390d4-cc4e-419b-816a-45f5eceb5297 div.sk-serial {display: flex;flex-direction: column;align-items: center;background-color: white;padding-right: 0.2em;padding-left: 0.2em;}#sk-693390d4-cc4e-419b-816a-45f5eceb5297 div.sk-item {z-index: 1;}#sk-693390d4-cc4e-419b-816a-45f5eceb5297 div.sk-parallel {display: flex;align-items: stretch;justify-content: center;background-color: white;}#sk-693390d4-cc4e-419b-816a-45f5eceb5297 div.sk-parallel::before {content: \"\";position: absolute;border-left: 1px solid gray;box-sizing: border-box;top: 2em;bottom: 0;left: 50%;}#sk-693390d4-cc4e-419b-816a-45f5eceb5297 div.sk-parallel-item {display: flex;flex-direction: column;position: relative;background-color: white;}#sk-693390d4-cc4e-419b-816a-45f5eceb5297 div.sk-parallel-item:first-child::after {align-self: flex-end;width: 50%;}#sk-693390d4-cc4e-419b-816a-45f5eceb5297 div.sk-parallel-item:last-child::after {align-self: flex-start;width: 50%;}#sk-693390d4-cc4e-419b-816a-45f5eceb5297 div.sk-parallel-item:only-child::after {width: 0;}#sk-693390d4-cc4e-419b-816a-45f5eceb5297 div.sk-dashed-wrapped {border: 1px dashed gray;margin: 0 0.4em 0.5em 0.4em;box-sizing: border-box;padding-bottom: 0.4em;background-color: white;position: relative;}#sk-693390d4-cc4e-419b-816a-45f5eceb5297 div.sk-label label {font-family: monospace;font-weight: bold;background-color: white;display: inline-block;line-height: 1.2em;}#sk-693390d4-cc4e-419b-816a-45f5eceb5297 div.sk-label-container {position: relative;z-index: 2;text-align: center;}#sk-693390d4-cc4e-419b-816a-45f5eceb5297 div.sk-container {/* jupyter's `normalize.less` sets `[hidden] { display: none; }` but bootstrap.min.css set `[hidden] { display: none !important; }` so we also need the `!important` here to be able to override the default hidden behavior on the sphinx rendered scikit-learn.org. See: https://github.com/scikit-learn/scikit-learn/issues/21755 */display: inline-block !important;position: relative;}#sk-693390d4-cc4e-419b-816a-45f5eceb5297 div.sk-text-repr-fallback {display: none;}</style><div id=\"sk-693390d4-cc4e-419b-816a-45f5eceb5297\" class=\"sk-top-container\"><div class=\"sk-text-repr-fallback\"><pre>Pipeline(steps=[(&#x27;simpleimputer&#x27;, SimpleImputer(strategy=&#x27;most_frequent&#x27;)),\n",
              "                (&#x27;onehotencoder&#x27;,\n",
              "                 OneHotEncoder(handle_unknown=&#x27;ignore&#x27;, sparse=False))])</pre><b>Please rerun this cell to show the HTML repr or trust the notebook.</b></div><div class=\"sk-container\" hidden><div class=\"sk-item sk-dashed-wrapped\"><div class=\"sk-label-container\"><div class=\"sk-label sk-toggleable\"><input class=\"sk-toggleable__control sk-hidden--visually\" id=\"fda78e3c-71b8-46e6-b131-acc1efa028d5\" type=\"checkbox\" ><label for=\"fda78e3c-71b8-46e6-b131-acc1efa028d5\" class=\"sk-toggleable__label sk-toggleable__label-arrow\">Pipeline</label><div class=\"sk-toggleable__content\"><pre>Pipeline(steps=[(&#x27;simpleimputer&#x27;, SimpleImputer(strategy=&#x27;most_frequent&#x27;)),\n",
              "                (&#x27;onehotencoder&#x27;,\n",
              "                 OneHotEncoder(handle_unknown=&#x27;ignore&#x27;, sparse=False))])</pre></div></div></div><div class=\"sk-serial\"><div class=\"sk-item\"><div class=\"sk-estimator sk-toggleable\"><input class=\"sk-toggleable__control sk-hidden--visually\" id=\"52f6b124-3c20-4d89-9439-d76f8e0a30b1\" type=\"checkbox\" ><label for=\"52f6b124-3c20-4d89-9439-d76f8e0a30b1\" class=\"sk-toggleable__label sk-toggleable__label-arrow\">SimpleImputer</label><div class=\"sk-toggleable__content\"><pre>SimpleImputer(strategy=&#x27;most_frequent&#x27;)</pre></div></div></div><div class=\"sk-item\"><div class=\"sk-estimator sk-toggleable\"><input class=\"sk-toggleable__control sk-hidden--visually\" id=\"fe058011-c1ec-468a-affb-9e69cf83744b\" type=\"checkbox\" ><label for=\"fe058011-c1ec-468a-affb-9e69cf83744b\" class=\"sk-toggleable__label sk-toggleable__label-arrow\">OneHotEncoder</label><div class=\"sk-toggleable__content\"><pre>OneHotEncoder(handle_unknown=&#x27;ignore&#x27;, sparse=False)</pre></div></div></div></div></div></div></div>"
            ]
          },
          "metadata": {},
          "execution_count": 53
        }
      ]
    },
    {
      "cell_type": "markdown",
      "source": [
        "#Tuples and Column Transformer"
      ],
      "metadata": {
        "id": "PUQ8tQ2bIFTC"
      }
    },
    {
      "cell_type": "code",
      "source": [
        "number_tuple = (numeric_pipe, num_selector)\n",
        "category_tuple = (categorical_pipe, cat_selector)\n",
        "\n",
        "preprocessor = make_column_transformer(number_tuple, category_tuple)\n",
        "preprocessor"
      ],
      "metadata": {
        "colab": {
          "base_uri": "https://localhost:8080/",
          "height": 152
        },
        "id": "ke-cVhHGM9Ec",
        "outputId": "d8f3c8ac-1a4e-46f2-c73c-bcabac787c51"
      },
      "execution_count": 54,
      "outputs": [
        {
          "output_type": "execute_result",
          "data": {
            "text/plain": [
              "ColumnTransformer(transformers=[('pipeline-1',\n",
              "                                 Pipeline(steps=[('simpleimputer',\n",
              "                                                  SimpleImputer()),\n",
              "                                                 ('standardscaler',\n",
              "                                                  StandardScaler())]),\n",
              "                                 <sklearn.compose._column_transformer.make_column_selector object at 0x7f6a670fc160>),\n",
              "                                ('pipeline-2',\n",
              "                                 Pipeline(steps=[('simpleimputer',\n",
              "                                                  SimpleImputer(strategy='most_frequent')),\n",
              "                                                 ('onehotencoder',\n",
              "                                                  OneHotEncoder(handle_unknown='ignore',\n",
              "                                                                sparse=False))]),\n",
              "                                 <sklearn.compose._column_transformer.make_column_selector object at 0x7f6a670fc100>)])"
            ],
            "text/html": [
              "<style>#sk-523ebc20-b50a-43f5-bd51-bb8f774bf29d {color: black;background-color: white;}#sk-523ebc20-b50a-43f5-bd51-bb8f774bf29d pre{padding: 0;}#sk-523ebc20-b50a-43f5-bd51-bb8f774bf29d div.sk-toggleable {background-color: white;}#sk-523ebc20-b50a-43f5-bd51-bb8f774bf29d label.sk-toggleable__label {cursor: pointer;display: block;width: 100%;margin-bottom: 0;padding: 0.3em;box-sizing: border-box;text-align: center;}#sk-523ebc20-b50a-43f5-bd51-bb8f774bf29d label.sk-toggleable__label-arrow:before {content: \"▸\";float: left;margin-right: 0.25em;color: #696969;}#sk-523ebc20-b50a-43f5-bd51-bb8f774bf29d label.sk-toggleable__label-arrow:hover:before {color: black;}#sk-523ebc20-b50a-43f5-bd51-bb8f774bf29d div.sk-estimator:hover label.sk-toggleable__label-arrow:before {color: black;}#sk-523ebc20-b50a-43f5-bd51-bb8f774bf29d div.sk-toggleable__content {max-height: 0;max-width: 0;overflow: hidden;text-align: left;background-color: #f0f8ff;}#sk-523ebc20-b50a-43f5-bd51-bb8f774bf29d div.sk-toggleable__content pre {margin: 0.2em;color: black;border-radius: 0.25em;background-color: #f0f8ff;}#sk-523ebc20-b50a-43f5-bd51-bb8f774bf29d input.sk-toggleable__control:checked~div.sk-toggleable__content {max-height: 200px;max-width: 100%;overflow: auto;}#sk-523ebc20-b50a-43f5-bd51-bb8f774bf29d input.sk-toggleable__control:checked~label.sk-toggleable__label-arrow:before {content: \"▾\";}#sk-523ebc20-b50a-43f5-bd51-bb8f774bf29d div.sk-estimator input.sk-toggleable__control:checked~label.sk-toggleable__label {background-color: #d4ebff;}#sk-523ebc20-b50a-43f5-bd51-bb8f774bf29d div.sk-label input.sk-toggleable__control:checked~label.sk-toggleable__label {background-color: #d4ebff;}#sk-523ebc20-b50a-43f5-bd51-bb8f774bf29d input.sk-hidden--visually {border: 0;clip: rect(1px 1px 1px 1px);clip: rect(1px, 1px, 1px, 1px);height: 1px;margin: -1px;overflow: hidden;padding: 0;position: absolute;width: 1px;}#sk-523ebc20-b50a-43f5-bd51-bb8f774bf29d div.sk-estimator {font-family: monospace;background-color: #f0f8ff;border: 1px dotted black;border-radius: 0.25em;box-sizing: border-box;margin-bottom: 0.5em;}#sk-523ebc20-b50a-43f5-bd51-bb8f774bf29d div.sk-estimator:hover {background-color: #d4ebff;}#sk-523ebc20-b50a-43f5-bd51-bb8f774bf29d div.sk-parallel-item::after {content: \"\";width: 100%;border-bottom: 1px solid gray;flex-grow: 1;}#sk-523ebc20-b50a-43f5-bd51-bb8f774bf29d div.sk-label:hover label.sk-toggleable__label {background-color: #d4ebff;}#sk-523ebc20-b50a-43f5-bd51-bb8f774bf29d div.sk-serial::before {content: \"\";position: absolute;border-left: 1px solid gray;box-sizing: border-box;top: 2em;bottom: 0;left: 50%;}#sk-523ebc20-b50a-43f5-bd51-bb8f774bf29d div.sk-serial {display: flex;flex-direction: column;align-items: center;background-color: white;padding-right: 0.2em;padding-left: 0.2em;}#sk-523ebc20-b50a-43f5-bd51-bb8f774bf29d div.sk-item {z-index: 1;}#sk-523ebc20-b50a-43f5-bd51-bb8f774bf29d div.sk-parallel {display: flex;align-items: stretch;justify-content: center;background-color: white;}#sk-523ebc20-b50a-43f5-bd51-bb8f774bf29d div.sk-parallel::before {content: \"\";position: absolute;border-left: 1px solid gray;box-sizing: border-box;top: 2em;bottom: 0;left: 50%;}#sk-523ebc20-b50a-43f5-bd51-bb8f774bf29d div.sk-parallel-item {display: flex;flex-direction: column;position: relative;background-color: white;}#sk-523ebc20-b50a-43f5-bd51-bb8f774bf29d div.sk-parallel-item:first-child::after {align-self: flex-end;width: 50%;}#sk-523ebc20-b50a-43f5-bd51-bb8f774bf29d div.sk-parallel-item:last-child::after {align-self: flex-start;width: 50%;}#sk-523ebc20-b50a-43f5-bd51-bb8f774bf29d div.sk-parallel-item:only-child::after {width: 0;}#sk-523ebc20-b50a-43f5-bd51-bb8f774bf29d div.sk-dashed-wrapped {border: 1px dashed gray;margin: 0 0.4em 0.5em 0.4em;box-sizing: border-box;padding-bottom: 0.4em;background-color: white;position: relative;}#sk-523ebc20-b50a-43f5-bd51-bb8f774bf29d div.sk-label label {font-family: monospace;font-weight: bold;background-color: white;display: inline-block;line-height: 1.2em;}#sk-523ebc20-b50a-43f5-bd51-bb8f774bf29d div.sk-label-container {position: relative;z-index: 2;text-align: center;}#sk-523ebc20-b50a-43f5-bd51-bb8f774bf29d div.sk-container {/* jupyter's `normalize.less` sets `[hidden] { display: none; }` but bootstrap.min.css set `[hidden] { display: none !important; }` so we also need the `!important` here to be able to override the default hidden behavior on the sphinx rendered scikit-learn.org. See: https://github.com/scikit-learn/scikit-learn/issues/21755 */display: inline-block !important;position: relative;}#sk-523ebc20-b50a-43f5-bd51-bb8f774bf29d div.sk-text-repr-fallback {display: none;}</style><div id=\"sk-523ebc20-b50a-43f5-bd51-bb8f774bf29d\" class=\"sk-top-container\"><div class=\"sk-text-repr-fallback\"><pre>ColumnTransformer(transformers=[(&#x27;pipeline-1&#x27;,\n",
              "                                 Pipeline(steps=[(&#x27;simpleimputer&#x27;,\n",
              "                                                  SimpleImputer()),\n",
              "                                                 (&#x27;standardscaler&#x27;,\n",
              "                                                  StandardScaler())]),\n",
              "                                 &lt;sklearn.compose._column_transformer.make_column_selector object at 0x7f6a670fc160&gt;),\n",
              "                                (&#x27;pipeline-2&#x27;,\n",
              "                                 Pipeline(steps=[(&#x27;simpleimputer&#x27;,\n",
              "                                                  SimpleImputer(strategy=&#x27;most_frequent&#x27;)),\n",
              "                                                 (&#x27;onehotencoder&#x27;,\n",
              "                                                  OneHotEncoder(handle_unknown=&#x27;ignore&#x27;,\n",
              "                                                                sparse=False))]),\n",
              "                                 &lt;sklearn.compose._column_transformer.make_column_selector object at 0x7f6a670fc100&gt;)])</pre><b>Please rerun this cell to show the HTML repr or trust the notebook.</b></div><div class=\"sk-container\" hidden><div class=\"sk-item sk-dashed-wrapped\"><div class=\"sk-label-container\"><div class=\"sk-label sk-toggleable\"><input class=\"sk-toggleable__control sk-hidden--visually\" id=\"52052730-af33-469d-8e22-59159714aad8\" type=\"checkbox\" ><label for=\"52052730-af33-469d-8e22-59159714aad8\" class=\"sk-toggleable__label sk-toggleable__label-arrow\">ColumnTransformer</label><div class=\"sk-toggleable__content\"><pre>ColumnTransformer(transformers=[(&#x27;pipeline-1&#x27;,\n",
              "                                 Pipeline(steps=[(&#x27;simpleimputer&#x27;,\n",
              "                                                  SimpleImputer()),\n",
              "                                                 (&#x27;standardscaler&#x27;,\n",
              "                                                  StandardScaler())]),\n",
              "                                 &lt;sklearn.compose._column_transformer.make_column_selector object at 0x7f6a670fc160&gt;),\n",
              "                                (&#x27;pipeline-2&#x27;,\n",
              "                                 Pipeline(steps=[(&#x27;simpleimputer&#x27;,\n",
              "                                                  SimpleImputer(strategy=&#x27;most_frequent&#x27;)),\n",
              "                                                 (&#x27;onehotencoder&#x27;,\n",
              "                                                  OneHotEncoder(handle_unknown=&#x27;ignore&#x27;,\n",
              "                                                                sparse=False))]),\n",
              "                                 &lt;sklearn.compose._column_transformer.make_column_selector object at 0x7f6a670fc100&gt;)])</pre></div></div></div><div class=\"sk-parallel\"><div class=\"sk-parallel-item\"><div class=\"sk-item\"><div class=\"sk-label-container\"><div class=\"sk-label sk-toggleable\"><input class=\"sk-toggleable__control sk-hidden--visually\" id=\"b67c6731-d7cf-43a6-89a2-72eabda9c300\" type=\"checkbox\" ><label for=\"b67c6731-d7cf-43a6-89a2-72eabda9c300\" class=\"sk-toggleable__label sk-toggleable__label-arrow\">pipeline-1</label><div class=\"sk-toggleable__content\"><pre>&lt;sklearn.compose._column_transformer.make_column_selector object at 0x7f6a670fc160&gt;</pre></div></div></div><div class=\"sk-serial\"><div class=\"sk-item\"><div class=\"sk-serial\"><div class=\"sk-item\"><div class=\"sk-estimator sk-toggleable\"><input class=\"sk-toggleable__control sk-hidden--visually\" id=\"a4906fda-89e1-4ff6-a4b5-f1b557a6e03d\" type=\"checkbox\" ><label for=\"a4906fda-89e1-4ff6-a4b5-f1b557a6e03d\" class=\"sk-toggleable__label sk-toggleable__label-arrow\">SimpleImputer</label><div class=\"sk-toggleable__content\"><pre>SimpleImputer()</pre></div></div></div><div class=\"sk-item\"><div class=\"sk-estimator sk-toggleable\"><input class=\"sk-toggleable__control sk-hidden--visually\" id=\"238499aa-1d73-4213-977f-9a4e0bd0fa32\" type=\"checkbox\" ><label for=\"238499aa-1d73-4213-977f-9a4e0bd0fa32\" class=\"sk-toggleable__label sk-toggleable__label-arrow\">StandardScaler</label><div class=\"sk-toggleable__content\"><pre>StandardScaler()</pre></div></div></div></div></div></div></div></div><div class=\"sk-parallel-item\"><div class=\"sk-item\"><div class=\"sk-label-container\"><div class=\"sk-label sk-toggleable\"><input class=\"sk-toggleable__control sk-hidden--visually\" id=\"025a9f99-34f3-4c3f-b9a8-5b2dcd94e1dd\" type=\"checkbox\" ><label for=\"025a9f99-34f3-4c3f-b9a8-5b2dcd94e1dd\" class=\"sk-toggleable__label sk-toggleable__label-arrow\">pipeline-2</label><div class=\"sk-toggleable__content\"><pre>&lt;sklearn.compose._column_transformer.make_column_selector object at 0x7f6a670fc100&gt;</pre></div></div></div><div class=\"sk-serial\"><div class=\"sk-item\"><div class=\"sk-serial\"><div class=\"sk-item\"><div class=\"sk-estimator sk-toggleable\"><input class=\"sk-toggleable__control sk-hidden--visually\" id=\"4e147473-fd73-4c89-a5a4-2c78f51aabf4\" type=\"checkbox\" ><label for=\"4e147473-fd73-4c89-a5a4-2c78f51aabf4\" class=\"sk-toggleable__label sk-toggleable__label-arrow\">SimpleImputer</label><div class=\"sk-toggleable__content\"><pre>SimpleImputer(strategy=&#x27;most_frequent&#x27;)</pre></div></div></div><div class=\"sk-item\"><div class=\"sk-estimator sk-toggleable\"><input class=\"sk-toggleable__control sk-hidden--visually\" id=\"8191f138-96d8-4329-9132-cca87c6b519f\" type=\"checkbox\" ><label for=\"8191f138-96d8-4329-9132-cca87c6b519f\" class=\"sk-toggleable__label sk-toggleable__label-arrow\">OneHotEncoder</label><div class=\"sk-toggleable__content\"><pre>OneHotEncoder(handle_unknown=&#x27;ignore&#x27;, sparse=False)</pre></div></div></div></div></div></div></div></div></div></div></div></div>"
            ]
          },
          "metadata": {},
          "execution_count": 54
        }
      ]
    },
    {
      "cell_type": "markdown",
      "source": [
        "#Fit Model"
      ],
      "metadata": {
        "id": "uQnoPwZ2IKMf"
      }
    },
    {
      "cell_type": "code",
      "source": [
        "linReg_pipe = make_pipeline(preprocessor, LinearRegression())\n",
        "linReg_pipe.fit(X_train, y_train)"
      ],
      "metadata": {
        "colab": {
          "base_uri": "https://localhost:8080/",
          "height": 227
        },
        "id": "H_D3x4mMmdQb",
        "outputId": "ba7ecaa4-c9c9-4fad-e79d-3204255b703e"
      },
      "execution_count": 55,
      "outputs": [
        {
          "output_type": "execute_result",
          "data": {
            "text/plain": [
              "Pipeline(steps=[('columntransformer',\n",
              "                 ColumnTransformer(transformers=[('pipeline-1',\n",
              "                                                  Pipeline(steps=[('simpleimputer',\n",
              "                                                                   SimpleImputer()),\n",
              "                                                                  ('standardscaler',\n",
              "                                                                   StandardScaler())]),\n",
              "                                                  <sklearn.compose._column_transformer.make_column_selector object at 0x7f6a670fc160>),\n",
              "                                                 ('pipeline-2',\n",
              "                                                  Pipeline(steps=[('simpleimputer',\n",
              "                                                                   SimpleImputer(strategy='most_frequent')),\n",
              "                                                                  ('onehotencoder',\n",
              "                                                                   OneHotEncoder(handle_unknown='ignore',\n",
              "                                                                                 sparse=False))]),\n",
              "                                                  <sklearn.compose._column_transformer.make_column_selector object at 0x7f6a670fc100>)])),\n",
              "                ('linearregression', LinearRegression())])"
            ],
            "text/html": [
              "<style>#sk-babd10d8-f495-4a1c-bec5-a67d9fa066b0 {color: black;background-color: white;}#sk-babd10d8-f495-4a1c-bec5-a67d9fa066b0 pre{padding: 0;}#sk-babd10d8-f495-4a1c-bec5-a67d9fa066b0 div.sk-toggleable {background-color: white;}#sk-babd10d8-f495-4a1c-bec5-a67d9fa066b0 label.sk-toggleable__label {cursor: pointer;display: block;width: 100%;margin-bottom: 0;padding: 0.3em;box-sizing: border-box;text-align: center;}#sk-babd10d8-f495-4a1c-bec5-a67d9fa066b0 label.sk-toggleable__label-arrow:before {content: \"▸\";float: left;margin-right: 0.25em;color: #696969;}#sk-babd10d8-f495-4a1c-bec5-a67d9fa066b0 label.sk-toggleable__label-arrow:hover:before {color: black;}#sk-babd10d8-f495-4a1c-bec5-a67d9fa066b0 div.sk-estimator:hover label.sk-toggleable__label-arrow:before {color: black;}#sk-babd10d8-f495-4a1c-bec5-a67d9fa066b0 div.sk-toggleable__content {max-height: 0;max-width: 0;overflow: hidden;text-align: left;background-color: #f0f8ff;}#sk-babd10d8-f495-4a1c-bec5-a67d9fa066b0 div.sk-toggleable__content pre {margin: 0.2em;color: black;border-radius: 0.25em;background-color: #f0f8ff;}#sk-babd10d8-f495-4a1c-bec5-a67d9fa066b0 input.sk-toggleable__control:checked~div.sk-toggleable__content {max-height: 200px;max-width: 100%;overflow: auto;}#sk-babd10d8-f495-4a1c-bec5-a67d9fa066b0 input.sk-toggleable__control:checked~label.sk-toggleable__label-arrow:before {content: \"▾\";}#sk-babd10d8-f495-4a1c-bec5-a67d9fa066b0 div.sk-estimator input.sk-toggleable__control:checked~label.sk-toggleable__label {background-color: #d4ebff;}#sk-babd10d8-f495-4a1c-bec5-a67d9fa066b0 div.sk-label input.sk-toggleable__control:checked~label.sk-toggleable__label {background-color: #d4ebff;}#sk-babd10d8-f495-4a1c-bec5-a67d9fa066b0 input.sk-hidden--visually {border: 0;clip: rect(1px 1px 1px 1px);clip: rect(1px, 1px, 1px, 1px);height: 1px;margin: -1px;overflow: hidden;padding: 0;position: absolute;width: 1px;}#sk-babd10d8-f495-4a1c-bec5-a67d9fa066b0 div.sk-estimator {font-family: monospace;background-color: #f0f8ff;border: 1px dotted black;border-radius: 0.25em;box-sizing: border-box;margin-bottom: 0.5em;}#sk-babd10d8-f495-4a1c-bec5-a67d9fa066b0 div.sk-estimator:hover {background-color: #d4ebff;}#sk-babd10d8-f495-4a1c-bec5-a67d9fa066b0 div.sk-parallel-item::after {content: \"\";width: 100%;border-bottom: 1px solid gray;flex-grow: 1;}#sk-babd10d8-f495-4a1c-bec5-a67d9fa066b0 div.sk-label:hover label.sk-toggleable__label {background-color: #d4ebff;}#sk-babd10d8-f495-4a1c-bec5-a67d9fa066b0 div.sk-serial::before {content: \"\";position: absolute;border-left: 1px solid gray;box-sizing: border-box;top: 2em;bottom: 0;left: 50%;}#sk-babd10d8-f495-4a1c-bec5-a67d9fa066b0 div.sk-serial {display: flex;flex-direction: column;align-items: center;background-color: white;padding-right: 0.2em;padding-left: 0.2em;}#sk-babd10d8-f495-4a1c-bec5-a67d9fa066b0 div.sk-item {z-index: 1;}#sk-babd10d8-f495-4a1c-bec5-a67d9fa066b0 div.sk-parallel {display: flex;align-items: stretch;justify-content: center;background-color: white;}#sk-babd10d8-f495-4a1c-bec5-a67d9fa066b0 div.sk-parallel::before {content: \"\";position: absolute;border-left: 1px solid gray;box-sizing: border-box;top: 2em;bottom: 0;left: 50%;}#sk-babd10d8-f495-4a1c-bec5-a67d9fa066b0 div.sk-parallel-item {display: flex;flex-direction: column;position: relative;background-color: white;}#sk-babd10d8-f495-4a1c-bec5-a67d9fa066b0 div.sk-parallel-item:first-child::after {align-self: flex-end;width: 50%;}#sk-babd10d8-f495-4a1c-bec5-a67d9fa066b0 div.sk-parallel-item:last-child::after {align-self: flex-start;width: 50%;}#sk-babd10d8-f495-4a1c-bec5-a67d9fa066b0 div.sk-parallel-item:only-child::after {width: 0;}#sk-babd10d8-f495-4a1c-bec5-a67d9fa066b0 div.sk-dashed-wrapped {border: 1px dashed gray;margin: 0 0.4em 0.5em 0.4em;box-sizing: border-box;padding-bottom: 0.4em;background-color: white;position: relative;}#sk-babd10d8-f495-4a1c-bec5-a67d9fa066b0 div.sk-label label {font-family: monospace;font-weight: bold;background-color: white;display: inline-block;line-height: 1.2em;}#sk-babd10d8-f495-4a1c-bec5-a67d9fa066b0 div.sk-label-container {position: relative;z-index: 2;text-align: center;}#sk-babd10d8-f495-4a1c-bec5-a67d9fa066b0 div.sk-container {/* jupyter's `normalize.less` sets `[hidden] { display: none; }` but bootstrap.min.css set `[hidden] { display: none !important; }` so we also need the `!important` here to be able to override the default hidden behavior on the sphinx rendered scikit-learn.org. See: https://github.com/scikit-learn/scikit-learn/issues/21755 */display: inline-block !important;position: relative;}#sk-babd10d8-f495-4a1c-bec5-a67d9fa066b0 div.sk-text-repr-fallback {display: none;}</style><div id=\"sk-babd10d8-f495-4a1c-bec5-a67d9fa066b0\" class=\"sk-top-container\"><div class=\"sk-text-repr-fallback\"><pre>Pipeline(steps=[(&#x27;columntransformer&#x27;,\n",
              "                 ColumnTransformer(transformers=[(&#x27;pipeline-1&#x27;,\n",
              "                                                  Pipeline(steps=[(&#x27;simpleimputer&#x27;,\n",
              "                                                                   SimpleImputer()),\n",
              "                                                                  (&#x27;standardscaler&#x27;,\n",
              "                                                                   StandardScaler())]),\n",
              "                                                  &lt;sklearn.compose._column_transformer.make_column_selector object at 0x7f6a670fc160&gt;),\n",
              "                                                 (&#x27;pipeline-2&#x27;,\n",
              "                                                  Pipeline(steps=[(&#x27;simpleimputer&#x27;,\n",
              "                                                                   SimpleImputer(strategy=&#x27;most_frequent&#x27;)),\n",
              "                                                                  (&#x27;onehotencoder&#x27;,\n",
              "                                                                   OneHotEncoder(handle_unknown=&#x27;ignore&#x27;,\n",
              "                                                                                 sparse=False))]),\n",
              "                                                  &lt;sklearn.compose._column_transformer.make_column_selector object at 0x7f6a670fc100&gt;)])),\n",
              "                (&#x27;linearregression&#x27;, LinearRegression())])</pre><b>Please rerun this cell to show the HTML repr or trust the notebook.</b></div><div class=\"sk-container\" hidden><div class=\"sk-item sk-dashed-wrapped\"><div class=\"sk-label-container\"><div class=\"sk-label sk-toggleable\"><input class=\"sk-toggleable__control sk-hidden--visually\" id=\"84f1b1d7-2eae-40ca-a511-499344646e87\" type=\"checkbox\" ><label for=\"84f1b1d7-2eae-40ca-a511-499344646e87\" class=\"sk-toggleable__label sk-toggleable__label-arrow\">Pipeline</label><div class=\"sk-toggleable__content\"><pre>Pipeline(steps=[(&#x27;columntransformer&#x27;,\n",
              "                 ColumnTransformer(transformers=[(&#x27;pipeline-1&#x27;,\n",
              "                                                  Pipeline(steps=[(&#x27;simpleimputer&#x27;,\n",
              "                                                                   SimpleImputer()),\n",
              "                                                                  (&#x27;standardscaler&#x27;,\n",
              "                                                                   StandardScaler())]),\n",
              "                                                  &lt;sklearn.compose._column_transformer.make_column_selector object at 0x7f6a670fc160&gt;),\n",
              "                                                 (&#x27;pipeline-2&#x27;,\n",
              "                                                  Pipeline(steps=[(&#x27;simpleimputer&#x27;,\n",
              "                                                                   SimpleImputer(strategy=&#x27;most_frequent&#x27;)),\n",
              "                                                                  (&#x27;onehotencoder&#x27;,\n",
              "                                                                   OneHotEncoder(handle_unknown=&#x27;ignore&#x27;,\n",
              "                                                                                 sparse=False))]),\n",
              "                                                  &lt;sklearn.compose._column_transformer.make_column_selector object at 0x7f6a670fc100&gt;)])),\n",
              "                (&#x27;linearregression&#x27;, LinearRegression())])</pre></div></div></div><div class=\"sk-serial\"><div class=\"sk-item sk-dashed-wrapped\"><div class=\"sk-label-container\"><div class=\"sk-label sk-toggleable\"><input class=\"sk-toggleable__control sk-hidden--visually\" id=\"995ebdcd-bbd4-43a5-b74c-9e3a112c50c7\" type=\"checkbox\" ><label for=\"995ebdcd-bbd4-43a5-b74c-9e3a112c50c7\" class=\"sk-toggleable__label sk-toggleable__label-arrow\">columntransformer: ColumnTransformer</label><div class=\"sk-toggleable__content\"><pre>ColumnTransformer(transformers=[(&#x27;pipeline-1&#x27;,\n",
              "                                 Pipeline(steps=[(&#x27;simpleimputer&#x27;,\n",
              "                                                  SimpleImputer()),\n",
              "                                                 (&#x27;standardscaler&#x27;,\n",
              "                                                  StandardScaler())]),\n",
              "                                 &lt;sklearn.compose._column_transformer.make_column_selector object at 0x7f6a670fc160&gt;),\n",
              "                                (&#x27;pipeline-2&#x27;,\n",
              "                                 Pipeline(steps=[(&#x27;simpleimputer&#x27;,\n",
              "                                                  SimpleImputer(strategy=&#x27;most_frequent&#x27;)),\n",
              "                                                 (&#x27;onehotencoder&#x27;,\n",
              "                                                  OneHotEncoder(handle_unknown=&#x27;ignore&#x27;,\n",
              "                                                                sparse=False))]),\n",
              "                                 &lt;sklearn.compose._column_transformer.make_column_selector object at 0x7f6a670fc100&gt;)])</pre></div></div></div><div class=\"sk-parallel\"><div class=\"sk-parallel-item\"><div class=\"sk-item\"><div class=\"sk-label-container\"><div class=\"sk-label sk-toggleable\"><input class=\"sk-toggleable__control sk-hidden--visually\" id=\"238f3d84-cbc0-40b7-80ab-5f7b3976ed67\" type=\"checkbox\" ><label for=\"238f3d84-cbc0-40b7-80ab-5f7b3976ed67\" class=\"sk-toggleable__label sk-toggleable__label-arrow\">pipeline-1</label><div class=\"sk-toggleable__content\"><pre>&lt;sklearn.compose._column_transformer.make_column_selector object at 0x7f6a670fc160&gt;</pre></div></div></div><div class=\"sk-serial\"><div class=\"sk-item\"><div class=\"sk-serial\"><div class=\"sk-item\"><div class=\"sk-estimator sk-toggleable\"><input class=\"sk-toggleable__control sk-hidden--visually\" id=\"d73de3f5-56e8-449f-91a0-87c99d23cb0c\" type=\"checkbox\" ><label for=\"d73de3f5-56e8-449f-91a0-87c99d23cb0c\" class=\"sk-toggleable__label sk-toggleable__label-arrow\">SimpleImputer</label><div class=\"sk-toggleable__content\"><pre>SimpleImputer()</pre></div></div></div><div class=\"sk-item\"><div class=\"sk-estimator sk-toggleable\"><input class=\"sk-toggleable__control sk-hidden--visually\" id=\"6460ec9b-f5fc-4226-a895-b909d99f6ca9\" type=\"checkbox\" ><label for=\"6460ec9b-f5fc-4226-a895-b909d99f6ca9\" class=\"sk-toggleable__label sk-toggleable__label-arrow\">StandardScaler</label><div class=\"sk-toggleable__content\"><pre>StandardScaler()</pre></div></div></div></div></div></div></div></div><div class=\"sk-parallel-item\"><div class=\"sk-item\"><div class=\"sk-label-container\"><div class=\"sk-label sk-toggleable\"><input class=\"sk-toggleable__control sk-hidden--visually\" id=\"1bc10b22-cf9d-4ff4-917b-09e1c33f1266\" type=\"checkbox\" ><label for=\"1bc10b22-cf9d-4ff4-917b-09e1c33f1266\" class=\"sk-toggleable__label sk-toggleable__label-arrow\">pipeline-2</label><div class=\"sk-toggleable__content\"><pre>&lt;sklearn.compose._column_transformer.make_column_selector object at 0x7f6a670fc100&gt;</pre></div></div></div><div class=\"sk-serial\"><div class=\"sk-item\"><div class=\"sk-serial\"><div class=\"sk-item\"><div class=\"sk-estimator sk-toggleable\"><input class=\"sk-toggleable__control sk-hidden--visually\" id=\"39fbf565-022b-4edb-b8f2-eec2d5d5aa2e\" type=\"checkbox\" ><label for=\"39fbf565-022b-4edb-b8f2-eec2d5d5aa2e\" class=\"sk-toggleable__label sk-toggleable__label-arrow\">SimpleImputer</label><div class=\"sk-toggleable__content\"><pre>SimpleImputer(strategy=&#x27;most_frequent&#x27;)</pre></div></div></div><div class=\"sk-item\"><div class=\"sk-estimator sk-toggleable\"><input class=\"sk-toggleable__control sk-hidden--visually\" id=\"80ffbedc-a77d-450d-94f4-2569e413295d\" type=\"checkbox\" ><label for=\"80ffbedc-a77d-450d-94f4-2569e413295d\" class=\"sk-toggleable__label sk-toggleable__label-arrow\">OneHotEncoder</label><div class=\"sk-toggleable__content\"><pre>OneHotEncoder(handle_unknown=&#x27;ignore&#x27;, sparse=False)</pre></div></div></div></div></div></div></div></div></div></div><div class=\"sk-item\"><div class=\"sk-estimator sk-toggleable\"><input class=\"sk-toggleable__control sk-hidden--visually\" id=\"453b0faf-f27f-41d3-9a74-607ee1d444ee\" type=\"checkbox\" ><label for=\"453b0faf-f27f-41d3-9a74-607ee1d444ee\" class=\"sk-toggleable__label sk-toggleable__label-arrow\">LinearRegression</label><div class=\"sk-toggleable__content\"><pre>LinearRegression()</pre></div></div></div></div></div></div></div>"
            ]
          },
          "metadata": {},
          "execution_count": 55
        }
      ]
    },
    {
      "cell_type": "markdown",
      "source": [
        "#Predictions"
      ],
      "metadata": {
        "id": "xYyABBezvbMJ"
      }
    },
    {
      "cell_type": "code",
      "source": [
        "predictions = linReg_pipe.predict(X_test)"
      ],
      "metadata": {
        "id": "WiBr6HY6vcxm"
      },
      "execution_count": 56,
      "outputs": []
    },
    {
      "cell_type": "code",
      "source": [
        "prediction_df = X_test.copy()\n",
        "prediction_df[target] = y_test\n",
        "prediction_df[f'Predicted {target}'] = predictions\n",
        "prediction_df['Error'] = predictions - y_test\n",
        "prediction_df.head()"
      ],
      "metadata": {
        "colab": {
          "base_uri": "https://localhost:8080/",
          "height": 354
        },
        "id": "PV7u7bXxvhrA",
        "outputId": "a63c198a-1c06-4cbc-a051-724de52d38c9"
      },
      "execution_count": 57,
      "outputs": [
        {
          "output_type": "execute_result",
          "data": {
            "text/plain": [
              "      Item_Weight Item_Fat_Content  Item_Visibility           Item_Type  \\\n",
              "7503       14.300          Low Fat         0.026300        Frozen Foods   \n",
              "2957        7.930          Low Fat         0.071136  Health and Hygiene   \n",
              "7031       14.500          Regular         0.041313              Canned   \n",
              "1084          NaN          Regular         0.044767         Soft Drinks   \n",
              "856        10.195          Regular         0.012456                Meat   \n",
              "\n",
              "      Item_MRP Outlet_Identifier  Outlet_Establishment_Year Outlet_Size  \\\n",
              "7503   79.4302            OUT013                       1987        High   \n",
              "2957   42.7086            OUT046                       1997       Small   \n",
              "7031   42.0454            OUT049                       1999      Medium   \n",
              "1084  173.7054            OUT027                       1985      Medium   \n",
              "856   197.5110            OUT035                       2004       Small   \n",
              "\n",
              "     Outlet_Location_Type        Outlet_Type  Item_Outlet_Sales  \\\n",
              "7503               Tier 3  Supermarket Type1          1743.0644   \n",
              "2957               Tier 1  Supermarket Type1           356.8688   \n",
              "7031               Tier 1  Supermarket Type1           377.5086   \n",
              "1084               Tier 3  Supermarket Type3          5778.4782   \n",
              "856                Tier 2  Supermarket Type1          2356.9320   \n",
              "\n",
              "      Predicted Item_Outlet_Sales      Error  \n",
              "7503                       1362.0  -381.0644  \n",
              "2957                        722.0   365.1312  \n",
              "7031                        885.0   507.4914  \n",
              "1084                       4237.5 -1540.9782  \n",
              "856                        3345.5   988.5680  "
            ],
            "text/html": [
              "\n",
              "  <div id=\"df-d671ebdf-c067-442c-9826-19e0afe993ba\">\n",
              "    <div class=\"colab-df-container\">\n",
              "      <div>\n",
              "<style scoped>\n",
              "    .dataframe tbody tr th:only-of-type {\n",
              "        vertical-align: middle;\n",
              "    }\n",
              "\n",
              "    .dataframe tbody tr th {\n",
              "        vertical-align: top;\n",
              "    }\n",
              "\n",
              "    .dataframe thead th {\n",
              "        text-align: right;\n",
              "    }\n",
              "</style>\n",
              "<table border=\"1\" class=\"dataframe\">\n",
              "  <thead>\n",
              "    <tr style=\"text-align: right;\">\n",
              "      <th></th>\n",
              "      <th>Item_Weight</th>\n",
              "      <th>Item_Fat_Content</th>\n",
              "      <th>Item_Visibility</th>\n",
              "      <th>Item_Type</th>\n",
              "      <th>Item_MRP</th>\n",
              "      <th>Outlet_Identifier</th>\n",
              "      <th>Outlet_Establishment_Year</th>\n",
              "      <th>Outlet_Size</th>\n",
              "      <th>Outlet_Location_Type</th>\n",
              "      <th>Outlet_Type</th>\n",
              "      <th>Item_Outlet_Sales</th>\n",
              "      <th>Predicted Item_Outlet_Sales</th>\n",
              "      <th>Error</th>\n",
              "    </tr>\n",
              "  </thead>\n",
              "  <tbody>\n",
              "    <tr>\n",
              "      <th>7503</th>\n",
              "      <td>14.300</td>\n",
              "      <td>Low Fat</td>\n",
              "      <td>0.026300</td>\n",
              "      <td>Frozen Foods</td>\n",
              "      <td>79.4302</td>\n",
              "      <td>OUT013</td>\n",
              "      <td>1987</td>\n",
              "      <td>High</td>\n",
              "      <td>Tier 3</td>\n",
              "      <td>Supermarket Type1</td>\n",
              "      <td>1743.0644</td>\n",
              "      <td>1362.0</td>\n",
              "      <td>-381.0644</td>\n",
              "    </tr>\n",
              "    <tr>\n",
              "      <th>2957</th>\n",
              "      <td>7.930</td>\n",
              "      <td>Low Fat</td>\n",
              "      <td>0.071136</td>\n",
              "      <td>Health and Hygiene</td>\n",
              "      <td>42.7086</td>\n",
              "      <td>OUT046</td>\n",
              "      <td>1997</td>\n",
              "      <td>Small</td>\n",
              "      <td>Tier 1</td>\n",
              "      <td>Supermarket Type1</td>\n",
              "      <td>356.8688</td>\n",
              "      <td>722.0</td>\n",
              "      <td>365.1312</td>\n",
              "    </tr>\n",
              "    <tr>\n",
              "      <th>7031</th>\n",
              "      <td>14.500</td>\n",
              "      <td>Regular</td>\n",
              "      <td>0.041313</td>\n",
              "      <td>Canned</td>\n",
              "      <td>42.0454</td>\n",
              "      <td>OUT049</td>\n",
              "      <td>1999</td>\n",
              "      <td>Medium</td>\n",
              "      <td>Tier 1</td>\n",
              "      <td>Supermarket Type1</td>\n",
              "      <td>377.5086</td>\n",
              "      <td>885.0</td>\n",
              "      <td>507.4914</td>\n",
              "    </tr>\n",
              "    <tr>\n",
              "      <th>1084</th>\n",
              "      <td>NaN</td>\n",
              "      <td>Regular</td>\n",
              "      <td>0.044767</td>\n",
              "      <td>Soft Drinks</td>\n",
              "      <td>173.7054</td>\n",
              "      <td>OUT027</td>\n",
              "      <td>1985</td>\n",
              "      <td>Medium</td>\n",
              "      <td>Tier 3</td>\n",
              "      <td>Supermarket Type3</td>\n",
              "      <td>5778.4782</td>\n",
              "      <td>4237.5</td>\n",
              "      <td>-1540.9782</td>\n",
              "    </tr>\n",
              "    <tr>\n",
              "      <th>856</th>\n",
              "      <td>10.195</td>\n",
              "      <td>Regular</td>\n",
              "      <td>0.012456</td>\n",
              "      <td>Meat</td>\n",
              "      <td>197.5110</td>\n",
              "      <td>OUT035</td>\n",
              "      <td>2004</td>\n",
              "      <td>Small</td>\n",
              "      <td>Tier 2</td>\n",
              "      <td>Supermarket Type1</td>\n",
              "      <td>2356.9320</td>\n",
              "      <td>3345.5</td>\n",
              "      <td>988.5680</td>\n",
              "    </tr>\n",
              "  </tbody>\n",
              "</table>\n",
              "</div>\n",
              "      <button class=\"colab-df-convert\" onclick=\"convertToInteractive('df-d671ebdf-c067-442c-9826-19e0afe993ba')\"\n",
              "              title=\"Convert this dataframe to an interactive table.\"\n",
              "              style=\"display:none;\">\n",
              "        \n",
              "  <svg xmlns=\"http://www.w3.org/2000/svg\" height=\"24px\"viewBox=\"0 0 24 24\"\n",
              "       width=\"24px\">\n",
              "    <path d=\"M0 0h24v24H0V0z\" fill=\"none\"/>\n",
              "    <path d=\"M18.56 5.44l.94 2.06.94-2.06 2.06-.94-2.06-.94-.94-2.06-.94 2.06-2.06.94zm-11 1L8.5 8.5l.94-2.06 2.06-.94-2.06-.94L8.5 2.5l-.94 2.06-2.06.94zm10 10l.94 2.06.94-2.06 2.06-.94-2.06-.94-.94-2.06-.94 2.06-2.06.94z\"/><path d=\"M17.41 7.96l-1.37-1.37c-.4-.4-.92-.59-1.43-.59-.52 0-1.04.2-1.43.59L10.3 9.45l-7.72 7.72c-.78.78-.78 2.05 0 2.83L4 21.41c.39.39.9.59 1.41.59.51 0 1.02-.2 1.41-.59l7.78-7.78 2.81-2.81c.8-.78.8-2.07 0-2.86zM5.41 20L4 18.59l7.72-7.72 1.47 1.35L5.41 20z\"/>\n",
              "  </svg>\n",
              "      </button>\n",
              "      \n",
              "  <style>\n",
              "    .colab-df-container {\n",
              "      display:flex;\n",
              "      flex-wrap:wrap;\n",
              "      gap: 12px;\n",
              "    }\n",
              "\n",
              "    .colab-df-convert {\n",
              "      background-color: #E8F0FE;\n",
              "      border: none;\n",
              "      border-radius: 50%;\n",
              "      cursor: pointer;\n",
              "      display: none;\n",
              "      fill: #1967D2;\n",
              "      height: 32px;\n",
              "      padding: 0 0 0 0;\n",
              "      width: 32px;\n",
              "    }\n",
              "\n",
              "    .colab-df-convert:hover {\n",
              "      background-color: #E2EBFA;\n",
              "      box-shadow: 0px 1px 2px rgba(60, 64, 67, 0.3), 0px 1px 3px 1px rgba(60, 64, 67, 0.15);\n",
              "      fill: #174EA6;\n",
              "    }\n",
              "\n",
              "    [theme=dark] .colab-df-convert {\n",
              "      background-color: #3B4455;\n",
              "      fill: #D2E3FC;\n",
              "    }\n",
              "\n",
              "    [theme=dark] .colab-df-convert:hover {\n",
              "      background-color: #434B5C;\n",
              "      box-shadow: 0px 1px 3px 1px rgba(0, 0, 0, 0.15);\n",
              "      filter: drop-shadow(0px 1px 2px rgba(0, 0, 0, 0.3));\n",
              "      fill: #FFFFFF;\n",
              "    }\n",
              "  </style>\n",
              "\n",
              "      <script>\n",
              "        const buttonEl =\n",
              "          document.querySelector('#df-d671ebdf-c067-442c-9826-19e0afe993ba button.colab-df-convert');\n",
              "        buttonEl.style.display =\n",
              "          google.colab.kernel.accessAllowed ? 'block' : 'none';\n",
              "\n",
              "        async function convertToInteractive(key) {\n",
              "          const element = document.querySelector('#df-d671ebdf-c067-442c-9826-19e0afe993ba');\n",
              "          const dataTable =\n",
              "            await google.colab.kernel.invokeFunction('convertToInteractive',\n",
              "                                                     [key], {});\n",
              "          if (!dataTable) return;\n",
              "\n",
              "          const docLinkHtml = 'Like what you see? Visit the ' +\n",
              "            '<a target=\"_blank\" href=https://colab.research.google.com/notebooks/data_table.ipynb>data table notebook</a>'\n",
              "            + ' to learn more about interactive tables.';\n",
              "          element.innerHTML = '';\n",
              "          dataTable['output_type'] = 'display_data';\n",
              "          await google.colab.output.renderOutput(dataTable, element);\n",
              "          const docLink = document.createElement('div');\n",
              "          docLink.innerHTML = docLinkHtml;\n",
              "          element.appendChild(docLink);\n",
              "        }\n",
              "      </script>\n",
              "    </div>\n",
              "  </div>\n",
              "  "
            ]
          },
          "metadata": {},
          "execution_count": 57
        }
      ]
    },
    {
      "cell_type": "markdown",
      "source": [
        "#Model Metrics Function"
      ],
      "metadata": {
        "id": "W9QqdSJtnjak"
      }
    },
    {
      "cell_type": "code",
      "source": [
        "## Create a function to take the true and predicted values\n",
        "## and print MAE, MSE, RMSE, and R2 metrics\n",
        "def model_metrics(pipe, x_train, y_train, x_test, y_test, \n",
        "                       model_name='Regression Model', ):\n",
        "  ## Train\n",
        "  mae = round(mean_absolute_error(y_train, pipe.predict(x_train)),4)\n",
        "  mse = round(mean_squared_error(y_train, pipe.predict(x_train)),4)\n",
        "  rmse = round(np.sqrt(mean_squared_error(y_train, pipe.predict(x_train))),4)\n",
        "  r2 = round(r2_score(y_train, pipe.predict(x_train)),7)\n",
        "  print(f'{model_name} Train Scores')\n",
        "  print(f'MAE: {mae} \\nMSE: {mse} \\nRMSE: {rmse} \\nR2: {r2}\\n')\n",
        "\n",
        "  ## Test\n",
        "  mae = round(mean_absolute_error(y_test, pipe.predict(x_test)),4)\n",
        "  mse = round(mean_squared_error(y_test, pipe.predict(x_test)),4)\n",
        "  rmse = round(np.sqrt(mean_squared_error(y_test, pipe.predict(x_test))),4)\n",
        "  r2 = round(r2_score(y_test, pipe.predict(x_test)),7)\n",
        "\n",
        "  ## Display the metrics for the model\n",
        "  print(f'{model_name} Test Scores')\n",
        "  print(f'MAE: {mae} \\nMSE: {mse} \\nRMSE: {rmse} \\nR2: {r2}\\n')"
      ],
      "metadata": {
        "id": "FcKaVMYunoOt"
      },
      "execution_count": 58,
      "outputs": []
    },
    {
      "cell_type": "code",
      "source": [
        "## Display the Model's metrics\n",
        "model_metrics(linReg_pipe, x_train=X_train, y_train=y_train, \n",
        "                          x_test=X_test, y_test=y_test, \n",
        "                           model_name='Linear Regression Model')"
      ],
      "metadata": {
        "colab": {
          "base_uri": "https://localhost:8080/"
        },
        "id": "UdAM1LgPnrhV",
        "outputId": "06d113a9-a7b2-4a16-f00a-d1da9ecefb88"
      },
      "execution_count": 59,
      "outputs": [
        {
          "output_type": "stream",
          "name": "stdout",
          "text": [
            "Linear Regression Model Train Scores\n",
            "MAE: 847.0817 \n",
            "MSE: 1297216.3309 \n",
            "RMSE: 1138.9541 \n",
            "R2: 0.5616706\n",
            "\n",
            "Linear Regression Model Test Scores\n",
            "MAE: 804.1168 \n",
            "MSE: 1194640.9114 \n",
            "RMSE: 1092.9963 \n",
            "R2: 0.5669986\n",
            "\n"
          ]
        }
      ]
    },
    {
      "cell_type": "code",
      "source": [
        "df2 = df.dropna(subset = ['Item_Weight', ''])"
      ],
      "metadata": {
        "id": "G4hjbVrexk29"
      },
      "execution_count": 61,
      "outputs": []
    },
    {
      "cell_type": "code",
      "source": [
        "corr = df2.corr()\n",
        "plt.figure(figsize=(10,10))\n",
        "sns.heatmap(corr, cmap='RdBu', vmin=-1, vmax=1, annot = True);"
      ],
      "metadata": {
        "colab": {
          "base_uri": "https://localhost:8080/",
          "height": 719
        },
        "id": "EwuHhimXvkjE",
        "outputId": "f88cdcfd-fe5b-472d-c0a3-51f9790fafe4"
      },
      "execution_count": 64,
      "outputs": [
        {
          "output_type": "display_data",
          "data": {
            "text/plain": [
              "<Figure size 720x720 with 2 Axes>"
            ],
            "image/png": "[encoded data removed]"
          },
          "metadata": {
            "needs_background": "light"
          }
        }
      ]
    }
  ]
}